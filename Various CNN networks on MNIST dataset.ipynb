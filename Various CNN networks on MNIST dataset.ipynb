{
  "nbformat": 4,
  "nbformat_minor": 0,
  "metadata": {
    "colab": {
      "provenance": []
    },
    "kernelspec": {
      "name": "python3",
      "display_name": "Python 3"
    }
  },
  "cells": [
    {
      "cell_type": "markdown",
      "metadata": {
        "id": "X3VnUZ9PMTi0"
      },
      "source": [
        "Try various CNN networks on MNIST dataset "
      ]
    },
    {
      "cell_type": "code",
      "metadata": {
        "id": "JTvZCuiMGST6",
        "outputId": "5a3fc523-4998-4da4-c450-418a9754e26a",
        "colab": {
          "base_uri": "https://localhost:8080/",
          "height": 34
        }
      },
      "source": [
        "from __future__ import print_function\n",
        "import keras\n",
        "from keras.datasets import mnist\n",
        "from keras.models import Sequential\n",
        "from keras.layers import Dense, Dropout, Flatten\n",
        "from keras.layers import Conv2D, MaxPooling2D\n",
        "from keras import backend as K\n",
        "from keras.layers.normalization import BatchNormalization\n",
        "from keras.layers import Dropout"
      ],
      "execution_count": null,
      "outputs": [
        {
          "output_type": "stream",
          "text": [
            "Using TensorFlow backend.\n"
          ],
          "name": "stderr"
        }
      ]
    },
    {
      "cell_type": "code",
      "metadata": {
        "id": "FxtcCPwgGggt"
      },
      "source": [
        "batch_size = 128\n",
        "num_classes = 10\n",
        "epochs = 8"
      ],
      "execution_count": null,
      "outputs": []
    },
    {
      "cell_type": "code",
      "metadata": {
        "id": "rEZkZPCZGi6n",
        "outputId": "7ae068a4-4342-4830-aa4b-005126f45784",
        "colab": {
          "base_uri": "https://localhost:8080/",
          "height": 51
        }
      },
      "source": [
        "# input image dimensions\n",
        "img_rows, img_cols = 28, 28\n",
        "\n",
        "# the data, split between train and test sets\n",
        "(x_train, y_train), (x_test, y_test) = mnist.load_data()\n"
      ],
      "execution_count": null,
      "outputs": [
        {
          "output_type": "stream",
          "text": [
            "Downloading data from https://s3.amazonaws.com/img-datasets/mnist.npz\n",
            "11493376/11490434 [==============================] - 1s 0us/step\n"
          ],
          "name": "stdout"
        }
      ]
    },
    {
      "cell_type": "code",
      "metadata": {
        "id": "nXIrkxSFGlTT"
      },
      "source": [
        "if K.image_data_format() == 'channels_first':\n",
        "    x_train = x_train.reshape(x_train.shape[0], 1, img_rows, img_cols)\n",
        "    x_test = x_test.reshape(x_test.shape[0], 1, img_rows, img_cols)\n",
        "    input_shape = (1, img_rows, img_cols)\n",
        "else:\n",
        "    x_train = x_train.reshape(x_train.shape[0], img_rows, img_cols, 1)\n",
        "    x_test = x_test.reshape(x_test.shape[0], img_rows, img_cols, 1)\n",
        "    input_shape = (img_rows, img_cols, 1)\n",
        "\n"
      ],
      "execution_count": null,
      "outputs": []
    },
    {
      "cell_type": "code",
      "metadata": {
        "id": "2k8JX07PGmzE",
        "outputId": "f15d8595-d6a3-4182-abf7-6a4e4b28ae41",
        "colab": {
          "base_uri": "https://localhost:8080/",
          "height": 68
        }
      },
      "source": [
        "x_train = x_train.astype('float32')\n",
        "x_test = x_test.astype('float32')\n",
        "x_train /= 255\n",
        "x_test /= 255\n",
        "print('x_train shape:', x_train.shape)\n",
        "print(x_train.shape[0], 'train samples')\n",
        "print(x_test.shape[0], 'test samples')\n",
        "\n",
        "# convert class vectors to binary class matrices\n",
        "y_train = keras.utils.to_categorical(y_train, num_classes)\n",
        "y_test = keras.utils.to_categorical(y_test, num_classes)"
      ],
      "execution_count": null,
      "outputs": [
        {
          "output_type": "stream",
          "text": [
            "x_train shape: (60000, 28, 28, 1)\n",
            "60000 train samples\n",
            "10000 test samples\n"
          ],
          "name": "stdout"
        }
      ]
    },
    {
      "cell_type": "markdown",
      "metadata": {
        "id": "8BRIKnxUHbCL"
      },
      "source": [
        "### Model 1 (normal), kernel_size=(3, 3)\n"
      ]
    },
    {
      "cell_type": "code",
      "metadata": {
        "id": "v3Cef8quGtDU",
        "outputId": "1e983874-6d1f-49d8-e128-2e5f28e17705",
        "colab": {
          "base_uri": "https://localhost:8080/",
          "height": 564
        }
      },
      "source": [
        "import warnings\n",
        "\n",
        "model = Sequential()\n",
        "model.add(Conv2D(16, kernel_size=(3, 3),\n",
        "                 activation='relu',\n",
        "                 input_shape=input_shape))\n",
        "model.add(Conv2D(32, (3, 3), activation='relu'))\n",
        "model.add(Conv2D(64, (3, 3), activation='relu'))\n",
        "model.add(MaxPooling2D(pool_size=(2, 2)))\n",
        "model.add(Flatten())\n",
        "model.add(Dense(128, activation='relu'))\n",
        "model.add(Dense(num_classes, activation='softmax'))\n",
        "print(model.summary())\n"
      ],
      "execution_count": null,
      "outputs": [
        {
          "output_type": "stream",
          "text": [
            "WARNING:tensorflow:From /usr/local/lib/python3.6/dist-packages/keras/backend/tensorflow_backend.py:66: The name tf.get_default_graph is deprecated. Please use tf.compat.v1.get_default_graph instead.\n",
            "\n",
            "WARNING:tensorflow:From /usr/local/lib/python3.6/dist-packages/keras/backend/tensorflow_backend.py:541: The name tf.placeholder is deprecated. Please use tf.compat.v1.placeholder instead.\n",
            "\n",
            "WARNING:tensorflow:From /usr/local/lib/python3.6/dist-packages/keras/backend/tensorflow_backend.py:4432: The name tf.random_uniform is deprecated. Please use tf.random.uniform instead.\n",
            "\n",
            "WARNING:tensorflow:From /usr/local/lib/python3.6/dist-packages/keras/backend/tensorflow_backend.py:4267: The name tf.nn.max_pool is deprecated. Please use tf.nn.max_pool2d instead.\n",
            "\n",
            "Model: \"sequential_1\"\n",
            "_________________________________________________________________\n",
            "Layer (type)                 Output Shape              Param #   \n",
            "=================================================================\n",
            "conv2d_1 (Conv2D)            (None, 26, 26, 16)        160       \n",
            "_________________________________________________________________\n",
            "conv2d_2 (Conv2D)            (None, 24, 24, 32)        4640      \n",
            "_________________________________________________________________\n",
            "conv2d_3 (Conv2D)            (None, 22, 22, 64)        18496     \n",
            "_________________________________________________________________\n",
            "max_pooling2d_1 (MaxPooling2 (None, 11, 11, 64)        0         \n",
            "_________________________________________________________________\n",
            "flatten_1 (Flatten)          (None, 7744)              0         \n",
            "_________________________________________________________________\n",
            "dense_1 (Dense)              (None, 128)               991360    \n",
            "_________________________________________________________________\n",
            "dense_2 (Dense)              (None, 10)                1290      \n",
            "=================================================================\n",
            "Total params: 1,015,946\n",
            "Trainable params: 1,015,946\n",
            "Non-trainable params: 0\n",
            "_________________________________________________________________\n",
            "None\n"
          ],
          "name": "stdout"
        }
      ]
    },
    {
      "cell_type": "code",
      "metadata": {
        "id": "bTgxd4eudQir",
        "outputId": "84e53602-6bd2-4134-fad2-f10b07ff4e6c",
        "colab": {
          "base_uri": "https://localhost:8080/",
          "height": 479
        }
      },
      "source": [
        "model.compile(loss=keras.losses.categorical_crossentropy,\n",
        "              optimizer=keras.optimizers.Adadelta(),\n",
        "              metrics=['accuracy'])\n",
        "warnings.filterwarnings(\"ignore\")\n",
        "history = model.fit(x_train, y_train,\n",
        "          batch_size=batch_size,\n",
        "          epochs=epochs,\n",
        "          verbose=1,\n",
        "          validation_data=(x_test, y_test))\n"
      ],
      "execution_count": null,
      "outputs": [
        {
          "output_type": "stream",
          "text": [
            "WARNING:tensorflow:From /usr/local/lib/python3.6/dist-packages/keras/optimizers.py:793: The name tf.train.Optimizer is deprecated. Please use tf.compat.v1.train.Optimizer instead.\n",
            "\n",
            "WARNING:tensorflow:From /usr/local/lib/python3.6/dist-packages/keras/backend/tensorflow_backend.py:3576: The name tf.log is deprecated. Please use tf.math.log instead.\n",
            "\n",
            "WARNING:tensorflow:From /usr/local/lib/python3.6/dist-packages/tensorflow/python/ops/math_grad.py:1250: add_dispatch_support.<locals>.wrapper (from tensorflow.python.ops.array_ops) is deprecated and will be removed in a future version.\n",
            "Instructions for updating:\n",
            "Use tf.where in 2.0, which has the same broadcast rule as np.where\n",
            "WARNING:tensorflow:From /usr/local/lib/python3.6/dist-packages/keras/backend/tensorflow_backend.py:1033: The name tf.assign_add is deprecated. Please use tf.compat.v1.assign_add instead.\n",
            "\n",
            "Train on 60000 samples, validate on 10000 samples\n",
            "Epoch 1/8\n",
            "60000/60000 [==============================] - 154s 3ms/step - loss: 0.1807 - acc: 0.9441 - val_loss: 0.0559 - val_acc: 0.9816\n",
            "Epoch 2/8\n",
            "60000/60000 [==============================] - 152s 3ms/step - loss: 0.0455 - acc: 0.9856 - val_loss: 0.0309 - val_acc: 0.9894\n",
            "Epoch 3/8\n",
            "60000/60000 [==============================] - 158s 3ms/step - loss: 0.0289 - acc: 0.9910 - val_loss: 0.0274 - val_acc: 0.9906\n",
            "Epoch 4/8\n",
            "60000/60000 [==============================] - 149s 2ms/step - loss: 0.0195 - acc: 0.9939 - val_loss: 0.0315 - val_acc: 0.9909\n",
            "Epoch 5/8\n",
            "60000/60000 [==============================] - 145s 2ms/step - loss: 0.0135 - acc: 0.9958 - val_loss: 0.0365 - val_acc: 0.9885\n",
            "Epoch 6/8\n",
            "60000/60000 [==============================] - 147s 2ms/step - loss: 0.0097 - acc: 0.9974 - val_loss: 0.0309 - val_acc: 0.9915\n",
            "Epoch 7/8\n",
            "60000/60000 [==============================] - 141s 2ms/step - loss: 0.0067 - acc: 0.9981 - val_loss: 0.0401 - val_acc: 0.9904\n",
            "Epoch 8/8\n",
            "60000/60000 [==============================] - 144s 2ms/step - loss: 0.0043 - acc: 0.9986 - val_loss: 0.0493 - val_acc: 0.9884\n"
          ],
          "name": "stdout"
        }
      ]
    },
    {
      "cell_type": "code",
      "metadata": {
        "id": "7Y04Pc1aIb8z",
        "outputId": "921ab566-2a79-40ee-ea2d-fa94d7be2599",
        "colab": {
          "base_uri": "https://localhost:8080/",
          "height": 317
        }
      },
      "source": [
        "import matplotlib.pyplot as plt\n",
        "import numpy as np\n",
        "import time\n",
        "# https://gist.github.com/greydanus/f6eee59eaf1d90fcb3b534a25362cea4\n",
        "# https://stackoverflow.com/a/14434334\n",
        "# this function is used to update the plots for each epoch and error\n",
        "def plt_dynamic(x, vy, ty, ax, colors=['b']):\n",
        "    ax.plot(x, vy, 'b', label=\"Validation Loss\")\n",
        "    ax.plot(x, ty, 'r', label=\"Train Loss\")\n",
        "    plt.legend()\n",
        "    plt.grid()\n",
        "    fig.canvas.draw()\n",
        "\n",
        "score = model.evaluate(x_test, y_test, verbose=0)\n",
        "print('Test loss:', score[0])\n",
        "print('Test accuracy:', score[1])\n",
        "fig,ax = plt.subplots(1,1)\n",
        "ax.set_xlabel('epoch') ; ax.set_ylabel('Categorical Crossentropy Loss')\n",
        "\n",
        "# list of epoch numbers\n",
        "x = list(range(1,epochs+1))\n",
        "\n",
        "vy = history.history['val_loss']\n",
        "ty = history.history['loss']\n",
        "plt_dynamic(x, vy, ty, ax)"
      ],
      "execution_count": null,
      "outputs": [
        {
          "output_type": "stream",
          "text": [
            "Test loss: 0.04928296602889534\n",
            "Test accuracy: 0.9884\n"
          ],
          "name": "stdout"
        },
        {
          "output_type": "display_data",
          "data": {
            "image/png": "[encoded data removed]",
            "text/plain": [
              "<Figure size 432x288 with 1 Axes>"
            ]
          },
          "metadata": {
            "tags": []
          }
        }
      ]
    },
    {
      "cell_type": "markdown",
      "metadata": {
        "id": "BUHrbVEl1RKM"
      },
      "source": [
        "#### Observation:\n",
        "    From above plot we can see that train and test data loss are getting diverged."
      ]
    },
    {
      "cell_type": "markdown",
      "metadata": {
        "id": "wFRbCp-_XXs5"
      },
      "source": [
        "### Model 1 (with padding), kernel_size=(3, 3) "
      ]
    },
    {
      "cell_type": "code",
      "metadata": {
        "id": "8na2XsEBW6Vr",
        "outputId": "63d5b728-c3f0-4574-94ae-1e6f1b3b2169",
        "colab": {
          "base_uri": "https://localhost:8080/",
          "height": 408
        }
      },
      "source": [
        "import warnings\n",
        "\n",
        "model = Sequential()\n",
        "model.add(Conv2D(16, kernel_size=(3, 3),\n",
        "                 activation='relu',padding='same',\n",
        "                 input_shape=input_shape))\n",
        "model.add(Conv2D(32, (3, 3), activation='relu',padding='same'))\n",
        "model.add(Conv2D(64, (3, 3), activation='relu',padding='same'))\n",
        "model.add(MaxPooling2D(pool_size=(2, 2)))\n",
        "model.add(Flatten())\n",
        "model.add(Dense(128, activation='relu'))\n",
        "model.add(Dense(num_classes, activation='softmax'))\n",
        "print(model.summary())"
      ],
      "execution_count": null,
      "outputs": [
        {
          "output_type": "stream",
          "text": [
            "Model: \"sequential_2\"\n",
            "_________________________________________________________________\n",
            "Layer (type)                 Output Shape              Param #   \n",
            "=================================================================\n",
            "conv2d_4 (Conv2D)            (None, 28, 28, 16)        160       \n",
            "_________________________________________________________________\n",
            "conv2d_5 (Conv2D)            (None, 28, 28, 32)        4640      \n",
            "_________________________________________________________________\n",
            "conv2d_6 (Conv2D)            (None, 28, 28, 64)        18496     \n",
            "_________________________________________________________________\n",
            "max_pooling2d_2 (MaxPooling2 (None, 14, 14, 64)        0         \n",
            "_________________________________________________________________\n",
            "flatten_2 (Flatten)          (None, 12544)             0         \n",
            "_________________________________________________________________\n",
            "dense_3 (Dense)              (None, 128)               1605760   \n",
            "_________________________________________________________________\n",
            "dense_4 (Dense)              (None, 10)                1290      \n",
            "=================================================================\n",
            "Total params: 1,630,346\n",
            "Trainable params: 1,630,346\n",
            "Non-trainable params: 0\n",
            "_________________________________________________________________\n",
            "None\n"
          ],
          "name": "stdout"
        }
      ]
    },
    {
      "cell_type": "code",
      "metadata": {
        "id": "IG9flw5jcXly",
        "outputId": "2f7389b4-2d5f-40e6-d5df-e698f154f2c5",
        "colab": {
          "base_uri": "https://localhost:8080/",
          "height": 306
        }
      },
      "source": [
        "model.compile(loss=keras.losses.categorical_crossentropy,\n",
        "              optimizer=keras.optimizers.Adadelta(),\n",
        "              metrics=['accuracy'])\n",
        "warnings.filterwarnings(\"ignore\")\n",
        "history = model.fit(x_train, y_train,\n",
        "          batch_size=batch_size,\n",
        "          epochs=epochs,\n",
        "          verbose=1,\n",
        "          validation_data=(x_test, y_test))\n"
      ],
      "execution_count": null,
      "outputs": [
        {
          "output_type": "stream",
          "text": [
            "Train on 60000 samples, validate on 10000 samples\n",
            "Epoch 1/8\n",
            "60000/60000 [==============================] - 259s 4ms/step - loss: 0.1819 - acc: 0.9436 - val_loss: 0.0557 - val_acc: 0.9826\n",
            "Epoch 2/8\n",
            "60000/60000 [==============================] - 258s 4ms/step - loss: 0.0446 - acc: 0.9863 - val_loss: 0.0344 - val_acc: 0.9878\n",
            "Epoch 3/8\n",
            "60000/60000 [==============================] - 258s 4ms/step - loss: 0.0269 - acc: 0.9918 - val_loss: 0.0328 - val_acc: 0.9886\n",
            "Epoch 4/8\n",
            "60000/60000 [==============================] - 257s 4ms/step - loss: 0.0179 - acc: 0.9945 - val_loss: 0.0316 - val_acc: 0.9901\n",
            "Epoch 5/8\n",
            "60000/60000 [==============================] - 257s 4ms/step - loss: 0.0121 - acc: 0.9961 - val_loss: 0.0311 - val_acc: 0.9909\n",
            "Epoch 6/8\n",
            "60000/60000 [==============================] - 256s 4ms/step - loss: 0.0083 - acc: 0.9974 - val_loss: 0.0311 - val_acc: 0.9913\n",
            "Epoch 7/8\n",
            "60000/60000 [==============================] - 257s 4ms/step - loss: 0.0048 - acc: 0.9986 - val_loss: 0.0387 - val_acc: 0.9899\n",
            "Epoch 8/8\n",
            "60000/60000 [==============================] - 255s 4ms/step - loss: 0.0040 - acc: 0.9987 - val_loss: 0.0472 - val_acc: 0.9889\n"
          ],
          "name": "stdout"
        }
      ]
    },
    {
      "cell_type": "code",
      "metadata": {
        "id": "jMlm9XMKXV9T",
        "outputId": "c987c077-0914-4e7f-a5a7-0c0d419d9429",
        "colab": {
          "base_uri": "https://localhost:8080/",
          "height": 317
        }
      },
      "source": [
        "import matplotlib.pyplot as plt\n",
        "import numpy as np\n",
        "import time\n",
        "# https://gist.github.com/greydanus/f6eee59eaf1d90fcb3b534a25362cea4\n",
        "# https://stackoverflow.com/a/14434334\n",
        "# this function is used to update the plots for each epoch and error\n",
        "def plt_dynamic(x, vy, ty, ax, colors=['b']):\n",
        "    ax.plot(x, vy, 'b', label=\"Validation Loss\")\n",
        "    ax.plot(x, ty, 'r', label=\"Train Loss\")\n",
        "    plt.legend()\n",
        "    plt.grid()\n",
        "    fig.canvas.draw()\n",
        "\n",
        "score = model.evaluate(x_test, y_test, verbose=0)\n",
        "print('Test loss:', score[0])\n",
        "print('Test accuracy:', score[1])\n",
        "fig,ax = plt.subplots(1,1)\n",
        "ax.set_xlabel('epoch') ; ax.set_ylabel('Categorical Crossentropy Loss')\n",
        "\n",
        "# list of epoch numbers\n",
        "x = list(range(1,epochs+1))\n",
        "\n",
        "vy = history.history['val_loss']\n",
        "ty = history.history['loss']\n",
        "plt_dynamic(x, vy, ty, ax)"
      ],
      "execution_count": null,
      "outputs": [
        {
          "output_type": "stream",
          "text": [
            "Test loss: 0.047212022333210237\n",
            "Test accuracy: 0.9889\n"
          ],
          "name": "stdout"
        },
        {
          "output_type": "display_data",
          "data": {
            "image/png": "[encoded data removed]",
            "text/plain": [
              "<Figure size 432x288 with 1 Axes>"
            ]
          },
          "metadata": {
            "tags": []
          }
        }
      ]
    },
    {
      "cell_type": "markdown",
      "metadata": {
        "id": "hCT15jiV1XKb"
      },
      "source": [
        "#### Observation:\n",
        "    From above plot we can see that train and test data loss are getting diverged."
      ]
    },
    {
      "cell_type": "markdown",
      "metadata": {
        "id": "IQ8p5Bs0XeVf"
      },
      "source": [
        "### Model 1 (with batch normal), kernel_size=(3, 3) "
      ]
    },
    {
      "cell_type": "code",
      "metadata": {
        "id": "ZyHBGBjnXb-b",
        "outputId": "a30b23e4-d884-4f55-ae12-cc7667054b63",
        "colab": {
          "base_uri": "https://localhost:8080/",
          "height": 530
        }
      },
      "source": [
        "import warnings\n",
        "\n",
        "model = Sequential()\n",
        "model.add(Conv2D(16, kernel_size=(3, 3),\n",
        "                 activation='relu',padding='same',\n",
        "                 input_shape=input_shape))\n",
        "model.add(Conv2D(32, (3, 3), activation='relu',padding='same'))\n",
        "model.add(BatchNormalization())\n",
        "model.add(Conv2D(64, (3, 3), activation='relu',padding='same'))\n",
        "model.add(BatchNormalization())\n",
        "#model.add(Dropout(0.25))\n",
        "model.add(MaxPooling2D(pool_size=(2, 2)))\n",
        "#model.add(Dropout(0.25))\n",
        "model.add(Flatten())\n",
        "model.add(Dense(128, activation='relu'))\n",
        "#model.add(Dropout(0.5))\n",
        "model.add(Dense(num_classes, activation='softmax'))\n",
        "print(model.summary())"
      ],
      "execution_count": null,
      "outputs": [
        {
          "output_type": "stream",
          "text": [
            "WARNING:tensorflow:From /usr/local/lib/python3.6/dist-packages/keras/backend/tensorflow_backend.py:2041: The name tf.nn.fused_batch_norm is deprecated. Please use tf.compat.v1.nn.fused_batch_norm instead.\n",
            "\n",
            "Model: \"sequential_10\"\n",
            "_________________________________________________________________\n",
            "Layer (type)                 Output Shape              Param #   \n",
            "=================================================================\n",
            "conv2d_24 (Conv2D)           (None, 28, 28, 16)        160       \n",
            "_________________________________________________________________\n",
            "conv2d_25 (Conv2D)           (None, 28, 28, 32)        4640      \n",
            "_________________________________________________________________\n",
            "batch_normalization_1 (Batch (None, 28, 28, 32)        128       \n",
            "_________________________________________________________________\n",
            "conv2d_26 (Conv2D)           (None, 28, 28, 64)        18496     \n",
            "_________________________________________________________________\n",
            "batch_normalization_2 (Batch (None, 28, 28, 64)        256       \n",
            "_________________________________________________________________\n",
            "max_pooling2d_9 (MaxPooling2 (None, 14, 14, 64)        0         \n",
            "_________________________________________________________________\n",
            "flatten_9 (Flatten)          (None, 12544)             0         \n",
            "_________________________________________________________________\n",
            "dense_17 (Dense)             (None, 128)               1605760   \n",
            "_________________________________________________________________\n",
            "dense_18 (Dense)             (None, 10)                1290      \n",
            "=================================================================\n",
            "Total params: 1,630,730\n",
            "Trainable params: 1,630,538\n",
            "Non-trainable params: 192\n",
            "_________________________________________________________________\n",
            "None\n"
          ],
          "name": "stdout"
        }
      ]
    },
    {
      "cell_type": "code",
      "metadata": {
        "id": "ek0y8pBEcet2",
        "outputId": "e6da4198-4eae-4a19-c1d5-621bde8b4c76",
        "colab": {
          "base_uri": "https://localhost:8080/",
          "height": 306
        }
      },
      "source": [
        "model.compile(loss=keras.losses.categorical_crossentropy,\n",
        "              optimizer=keras.optimizers.Adadelta(),\n",
        "              metrics=['accuracy'])\n",
        "warnings.filterwarnings(\"ignore\")\n",
        "history = model.fit(x_train, y_train,\n",
        "          batch_size=batch_size,\n",
        "          epochs=epochs,\n",
        "          verbose=1,\n",
        "          validation_data=(x_test, y_test))\n"
      ],
      "execution_count": null,
      "outputs": [
        {
          "output_type": "stream",
          "text": [
            "Train on 60000 samples, validate on 10000 samples\n",
            "Epoch 1/8\n",
            "60000/60000 [==============================] - 430s 7ms/step - loss: 0.2965 - acc: 0.9455 - val_loss: 0.0940 - val_acc: 0.9734\n",
            "Epoch 2/8\n",
            "60000/60000 [==============================] - 433s 7ms/step - loss: 0.0525 - acc: 0.9849 - val_loss: 0.0737 - val_acc: 0.9806\n",
            "Epoch 3/8\n",
            "60000/60000 [==============================] - 435s 7ms/step - loss: 0.0299 - acc: 0.9911 - val_loss: 0.0458 - val_acc: 0.9890\n",
            "Epoch 4/8\n",
            "60000/60000 [==============================] - 434s 7ms/step - loss: 0.0176 - acc: 0.9948 - val_loss: 0.0598 - val_acc: 0.9859\n",
            "Epoch 5/8\n",
            "60000/60000 [==============================] - 434s 7ms/step - loss: 0.0120 - acc: 0.9963 - val_loss: 0.0458 - val_acc: 0.9892\n",
            "Epoch 6/8\n",
            "60000/60000 [==============================] - 430s 7ms/step - loss: 0.0063 - acc: 0.9980 - val_loss: 0.0408 - val_acc: 0.9912\n",
            "Epoch 7/8\n",
            "60000/60000 [==============================] - 427s 7ms/step - loss: 0.0034 - acc: 0.9991 - val_loss: 0.0431 - val_acc: 0.9896\n",
            "Epoch 8/8\n",
            "60000/60000 [==============================] - 427s 7ms/step - loss: 0.0014 - acc: 0.9996 - val_loss: 0.0438 - val_acc: 0.9922\n"
          ],
          "name": "stdout"
        }
      ]
    },
    {
      "cell_type": "code",
      "metadata": {
        "id": "_-ZA4Sz1Xxs2",
        "outputId": "0b0715b5-b836-43cc-8ae0-d463ba59f9e5",
        "colab": {
          "base_uri": "https://localhost:8080/",
          "height": 317
        }
      },
      "source": [
        "import matplotlib.pyplot as plt\n",
        "import numpy as np\n",
        "import time\n",
        "# https://gist.github.com/greydanus/f6eee59eaf1d90fcb3b534a25362cea4\n",
        "# https://stackoverflow.com/a/14434334\n",
        "# this function is used to update the plots for each epoch and error\n",
        "def plt_dynamic(x, vy, ty, ax, colors=['b']):\n",
        "    ax.plot(x, vy, 'b', label=\"Validation Loss\")\n",
        "    ax.plot(x, ty, 'r', label=\"Train Loss\")\n",
        "    plt.legend()\n",
        "    plt.grid()\n",
        "    fig.canvas.draw()\n",
        "\n",
        "score = model.evaluate(x_test, y_test, verbose=0)\n",
        "print('Test loss:', score[0])\n",
        "print('Test accuracy:', score[1])\n",
        "fig,ax = plt.subplots(1,1)\n",
        "ax.set_xlabel('epoch') ; ax.set_ylabel('Categorical Crossentropy Loss')\n",
        "\n",
        "# list of epoch numbers\n",
        "x = list(range(1,epochs+1))\n",
        "\n",
        "vy = history.history['val_loss']\n",
        "ty = history.history['loss']\n",
        "plt_dynamic(x, vy, ty, ax)"
      ],
      "execution_count": null,
      "outputs": [
        {
          "output_type": "stream",
          "text": [
            "Test loss: 0.0437732702759823\n",
            "Test accuracy: 0.9922\n"
          ],
          "name": "stdout"
        },
        {
          "output_type": "display_data",
          "data": {
            "image/png": "[encoded data removed]",
            "text/plain": [
              "<Figure size 432x288 with 1 Axes>"
            ]
          },
          "metadata": {
            "tags": []
          }
        }
      ]
    },
    {
      "cell_type": "markdown",
      "metadata": {
        "id": "H4q-br6U1Z50"
      },
      "source": [
        "#### Observation:\n",
        "    From above plot we can see that train and test data loss are getting diverged."
      ]
    },
    {
      "cell_type": "markdown",
      "metadata": {
        "id": "YN_cxdV2X1B_"
      },
      "source": [
        "### Model 1 ( with dropout), kernel_size=(3, 3)"
      ]
    },
    {
      "cell_type": "code",
      "metadata": {
        "id": "cYN-FmvHX4E7",
        "outputId": "8a540fbf-cd8c-4b4c-8820-19ff57c236a0",
        "colab": {
          "base_uri": "https://localhost:8080/",
          "height": 578
        }
      },
      "source": [
        "import warnings\n",
        "\n",
        "model = Sequential()\n",
        "model.add(Conv2D(16, kernel_size=(3, 3),\n",
        "                 activation='relu',padding='same',\n",
        "                 input_shape=input_shape))\n",
        "model.add(Conv2D(32, (3, 3), activation='relu',padding='same'))\n",
        "model.add(BatchNormalization())\n",
        "model.add(Conv2D(64, (3, 3), activation='relu',padding='same'))\n",
        "model.add(BatchNormalization())\n",
        "model.add(Dropout(0.25))\n",
        "model.add(MaxPooling2D(pool_size=(2, 2)))\n",
        "model.add(Dropout(0.25))\n",
        "model.add(Flatten())\n",
        "model.add(Dense(128, activation='relu'))\n",
        "model.add(Dropout(0.5))\n",
        "model.add(Dense(num_classes, activation='softmax'))\n",
        "print(model.summary())"
      ],
      "execution_count": null,
      "outputs": [
        {
          "output_type": "stream",
          "text": [
            "Model: \"sequential_11\"\n",
            "_________________________________________________________________\n",
            "Layer (type)                 Output Shape              Param #   \n",
            "=================================================================\n",
            "conv2d_27 (Conv2D)           (None, 28, 28, 16)        160       \n",
            "_________________________________________________________________\n",
            "conv2d_28 (Conv2D)           (None, 28, 28, 32)        4640      \n",
            "_________________________________________________________________\n",
            "batch_normalization_3 (Batch (None, 28, 28, 32)        128       \n",
            "_________________________________________________________________\n",
            "conv2d_29 (Conv2D)           (None, 28, 28, 64)        18496     \n",
            "_________________________________________________________________\n",
            "batch_normalization_4 (Batch (None, 28, 28, 64)        256       \n",
            "_________________________________________________________________\n",
            "dropout_12 (Dropout)         (None, 28, 28, 64)        0         \n",
            "_________________________________________________________________\n",
            "max_pooling2d_10 (MaxPooling (None, 14, 14, 64)        0         \n",
            "_________________________________________________________________\n",
            "dropout_13 (Dropout)         (None, 14, 14, 64)        0         \n",
            "_________________________________________________________________\n",
            "flatten_10 (Flatten)         (None, 12544)             0         \n",
            "_________________________________________________________________\n",
            "dense_19 (Dense)             (None, 128)               1605760   \n",
            "_________________________________________________________________\n",
            "dropout_14 (Dropout)         (None, 128)               0         \n",
            "_________________________________________________________________\n",
            "dense_20 (Dense)             (None, 10)                1290      \n",
            "=================================================================\n",
            "Total params: 1,630,730\n",
            "Trainable params: 1,630,538\n",
            "Non-trainable params: 192\n",
            "_________________________________________________________________\n",
            "None\n"
          ],
          "name": "stdout"
        }
      ]
    },
    {
      "cell_type": "code",
      "metadata": {
        "id": "bmOjTYbZckP3",
        "outputId": "771d8d25-df18-43be-81f0-4e8e71d2c6b8",
        "colab": {
          "base_uri": "https://localhost:8080/",
          "height": 306
        }
      },
      "source": [
        "model.compile(loss=keras.losses.categorical_crossentropy,\n",
        "              optimizer=keras.optimizers.Adadelta(),\n",
        "              metrics=['accuracy'])\n",
        "warnings.filterwarnings(\"ignore\")\n",
        "history = model.fit(x_train, y_train,\n",
        "          batch_size=batch_size,\n",
        "          epochs=epochs,\n",
        "          verbose=1,\n",
        "          validation_data=(x_test, y_test))\n"
      ],
      "execution_count": null,
      "outputs": [
        {
          "output_type": "stream",
          "text": [
            "Train on 60000 samples, validate on 10000 samples\n",
            "Epoch 1/8\n",
            "60000/60000 [==============================] - 480s 8ms/step - loss: 0.4225 - acc: 0.8986 - val_loss: 0.0825 - val_acc: 0.9771\n",
            "Epoch 2/8\n",
            "60000/60000 [==============================] - 480s 8ms/step - loss: 0.1411 - acc: 0.9627 - val_loss: 0.0582 - val_acc: 0.9844\n",
            "Epoch 3/8\n",
            "60000/60000 [==============================] - 484s 8ms/step - loss: 0.1122 - acc: 0.9707 - val_loss: 0.0568 - val_acc: 0.9845\n",
            "Epoch 4/8\n",
            "60000/60000 [==============================] - 478s 8ms/step - loss: 0.0936 - acc: 0.9762 - val_loss: 0.1241 - val_acc: 0.9751\n",
            "Epoch 5/8\n",
            "60000/60000 [==============================] - 474s 8ms/step - loss: 0.0844 - acc: 0.9784 - val_loss: 0.0518 - val_acc: 0.9863\n",
            "Epoch 6/8\n",
            "60000/60000 [==============================] - 474s 8ms/step - loss: 0.0714 - acc: 0.9810 - val_loss: 0.0468 - val_acc: 0.9860\n",
            "Epoch 7/8\n",
            "60000/60000 [==============================] - 478s 8ms/step - loss: 0.0707 - acc: 0.9819 - val_loss: 0.0522 - val_acc: 0.9871\n",
            "Epoch 8/8\n",
            "60000/60000 [==============================] - 480s 8ms/step - loss: 0.0606 - acc: 0.9842 - val_loss: 0.0469 - val_acc: 0.9881\n"
          ],
          "name": "stdout"
        }
      ]
    },
    {
      "cell_type": "code",
      "metadata": {
        "id": "0xtOdg9BX8Rr",
        "outputId": "1f028a71-4508-48c5-ae49-0c2ce00cdf25",
        "colab": {
          "base_uri": "https://localhost:8080/",
          "height": 317
        }
      },
      "source": [
        "import matplotlib.pyplot as plt\n",
        "import numpy as np\n",
        "import time\n",
        "# https://gist.github.com/greydanus/f6eee59eaf1d90fcb3b534a25362cea4\n",
        "# https://stackoverflow.com/a/14434334\n",
        "# this function is used to update the plots for each epoch and error\n",
        "def plt_dynamic(x, vy, ty, ax, colors=['b']):\n",
        "    ax.plot(x, vy, 'b', label=\"Validation Loss\")\n",
        "    ax.plot(x, ty, 'r', label=\"Train Loss\")\n",
        "    plt.legend()\n",
        "    plt.grid()\n",
        "    fig.canvas.draw()\n",
        "\n",
        "score = model.evaluate(x_test, y_test, verbose=0)\n",
        "print('Test loss:', score[0])\n",
        "print('Test accuracy:', score[1])\n",
        "fig,ax = plt.subplots(1,1)\n",
        "ax.set_xlabel('epoch') ; ax.set_ylabel('Categorical Crossentropy Loss')\n",
        "\n",
        "# list of epoch numbers\n",
        "x = list(range(1,epochs+1))\n",
        "\n",
        "vy = history.history['val_loss']\n",
        "ty = history.history['loss']\n",
        "plt_dynamic(x, vy, ty, ax)"
      ],
      "execution_count": null,
      "outputs": [
        {
          "output_type": "stream",
          "text": [
            "Test loss: 0.046881950073685404\n",
            "Test accuracy: 0.9881\n"
          ],
          "name": "stdout"
        },
        {
          "output_type": "display_data",
          "data": {
            "image/png": "[encoded data removed]",
            "text/plain": [
              "<Figure size 432x288 with 1 Axes>"
            ]
          },
          "metadata": {
            "tags": []
          }
        }
      ]
    },
    {
      "cell_type": "markdown",
      "metadata": {
        "id": "EUDy5oO-1cX3"
      },
      "source": [
        " #### Observation:\n",
        "    From above plot we can see that train and test data loss are getting converged."
      ]
    },
    {
      "cell_type": "markdown",
      "metadata": {
        "id": "YohuZ0Bz7sz6"
      },
      "source": [
        "### Model 2 (normal), kernel_size=(2, 2) "
      ]
    },
    {
      "cell_type": "code",
      "metadata": {
        "id": "fwgg3pPH7yYr",
        "outputId": "69e8298f-6457-41cd-d137-3811b563c7bf",
        "colab": {
          "base_uri": "https://localhost:8080/",
          "height": 476
        }
      },
      "source": [
        "import warnings\n",
        "\n",
        "model = Sequential()\n",
        "model.add(Conv2D(16, kernel_size=(2, 2),\n",
        "                 activation='relu',padding='same',\n",
        "                 input_shape=input_shape))\n",
        "model.add(Conv2D(32, (2, 2), activation='relu'))\n",
        "model.add(Conv2D(64, (2, 2), activation='relu'))\n",
        "model.add(Conv2D(128, (2, 2), activation='relu'))\n",
        "model.add(Conv2D(256, (2, 2), activation='relu'))\n",
        "model.add(MaxPooling2D(pool_size=(2, 2)))\n",
        "model.add(Flatten())\n",
        "model.add(Dense(128, activation='relu'))\n",
        "model.add(Dense(num_classes, activation='softmax'))\n",
        "print(model.summary())\n"
      ],
      "execution_count": null,
      "outputs": [
        {
          "output_type": "stream",
          "text": [
            "Model: \"sequential_2\"\n",
            "_________________________________________________________________\n",
            "Layer (type)                 Output Shape              Param #   \n",
            "=================================================================\n",
            "conv2d_6 (Conv2D)            (None, 28, 28, 16)        80        \n",
            "_________________________________________________________________\n",
            "conv2d_7 (Conv2D)            (None, 27, 27, 32)        2080      \n",
            "_________________________________________________________________\n",
            "conv2d_8 (Conv2D)            (None, 26, 26, 64)        8256      \n",
            "_________________________________________________________________\n",
            "conv2d_9 (Conv2D)            (None, 25, 25, 128)       32896     \n",
            "_________________________________________________________________\n",
            "conv2d_10 (Conv2D)           (None, 24, 24, 256)       131328    \n",
            "_________________________________________________________________\n",
            "max_pooling2d_2 (MaxPooling2 (None, 12, 12, 256)       0         \n",
            "_________________________________________________________________\n",
            "flatten_2 (Flatten)          (None, 36864)             0         \n",
            "_________________________________________________________________\n",
            "dense_3 (Dense)              (None, 128)               4718720   \n",
            "_________________________________________________________________\n",
            "dense_4 (Dense)              (None, 10)                1290      \n",
            "=================================================================\n",
            "Total params: 4,894,650\n",
            "Trainable params: 4,894,650\n",
            "Non-trainable params: 0\n",
            "_________________________________________________________________\n",
            "None\n"
          ],
          "name": "stdout"
        }
      ]
    },
    {
      "cell_type": "code",
      "metadata": {
        "id": "u6PL2X7W74kG",
        "outputId": "b135fd5b-ac71-4df0-cd65-e4d4e610a31a",
        "colab": {
          "base_uri": "https://localhost:8080/",
          "height": 479
        }
      },
      "source": [
        "model.compile(loss=keras.losses.categorical_crossentropy,\n",
        "              optimizer=keras.optimizers.Adadelta(),\n",
        "              metrics=['accuracy'])\n",
        "warnings.filterwarnings(\"ignore\")\n",
        "history = model.fit(x_train, y_train,\n",
        "          batch_size=batch_size,\n",
        "          epochs=epochs,\n",
        "          verbose=1,\n",
        "          validation_data=(x_test, y_test))\n"
      ],
      "execution_count": null,
      "outputs": [
        {
          "output_type": "stream",
          "text": [
            "WARNING:tensorflow:From /usr/local/lib/python3.6/dist-packages/keras/optimizers.py:793: The name tf.train.Optimizer is deprecated. Please use tf.compat.v1.train.Optimizer instead.\n",
            "\n",
            "WARNING:tensorflow:From /usr/local/lib/python3.6/dist-packages/keras/backend/tensorflow_backend.py:3576: The name tf.log is deprecated. Please use tf.math.log instead.\n",
            "\n",
            "WARNING:tensorflow:From /usr/local/lib/python3.6/dist-packages/tensorflow/python/ops/math_grad.py:1250: add_dispatch_support.<locals>.wrapper (from tensorflow.python.ops.array_ops) is deprecated and will be removed in a future version.\n",
            "Instructions for updating:\n",
            "Use tf.where in 2.0, which has the same broadcast rule as np.where\n",
            "WARNING:tensorflow:From /usr/local/lib/python3.6/dist-packages/keras/backend/tensorflow_backend.py:1033: The name tf.assign_add is deprecated. Please use tf.compat.v1.assign_add instead.\n",
            "\n",
            "Train on 60000 samples, validate on 10000 samples\n",
            "Epoch 1/8\n",
            "60000/60000 [==============================] - 715s 12ms/step - loss: 0.2166 - acc: 0.9329 - val_loss: 0.0514 - val_acc: 0.9814\n",
            "Epoch 2/8\n",
            "60000/60000 [==============================] - 711s 12ms/step - loss: 0.0432 - acc: 0.9865 - val_loss: 0.0406 - val_acc: 0.9876\n",
            "Epoch 3/8\n",
            "60000/60000 [==============================] - 710s 12ms/step - loss: 0.0258 - acc: 0.9920 - val_loss: 0.0448 - val_acc: 0.9857\n",
            "Epoch 4/8\n",
            "60000/60000 [==============================] - 708s 12ms/step - loss: 0.0162 - acc: 0.9947 - val_loss: 0.0384 - val_acc: 0.9888\n",
            "Epoch 5/8\n",
            "60000/60000 [==============================] - 705s 12ms/step - loss: 0.0111 - acc: 0.9963 - val_loss: 0.0354 - val_acc: 0.9907\n",
            "Epoch 6/8\n",
            "60000/60000 [==============================] - 707s 12ms/step - loss: 0.0066 - acc: 0.9979 - val_loss: 0.0514 - val_acc: 0.9869\n",
            "Epoch 7/8\n",
            "60000/60000 [==============================] - 705s 12ms/step - loss: 0.0046 - acc: 0.9986 - val_loss: 0.0551 - val_acc: 0.9904\n",
            "Epoch 8/8\n",
            "60000/60000 [==============================] - 704s 12ms/step - loss: 0.0040 - acc: 0.9986 - val_loss: 0.0611 - val_acc: 0.9891\n"
          ],
          "name": "stdout"
        }
      ]
    },
    {
      "cell_type": "code",
      "metadata": {
        "id": "KHjJmllw8CbK",
        "outputId": "c006a01d-460e-4748-998a-5b47a3ffaa8d",
        "colab": {
          "base_uri": "https://localhost:8080/",
          "height": 317
        }
      },
      "source": [
        "import matplotlib.pyplot as plt\n",
        "import numpy as np\n",
        "import time\n",
        "# https://gist.github.com/greydanus/f6eee59eaf1d90fcb3b534a25362cea4\n",
        "# https://stackoverflow.com/a/14434334\n",
        "# this function is used to update the plots for each epoch and error\n",
        "def plt_dynamic(x, vy, ty, ax, colors=['b']):\n",
        "    ax.plot(x, vy, 'b', label=\"Validation Loss\")\n",
        "    ax.plot(x, ty, 'r', label=\"Train Loss\")\n",
        "    plt.legend()\n",
        "    plt.grid()\n",
        "    fig.canvas.draw()\n",
        "\n",
        "score = model.evaluate(x_test, y_test, verbose=0)\n",
        "print('Test loss:', score[0])\n",
        "print('Test accuracy:', score[1])\n",
        "fig,ax = plt.subplots(1,1)\n",
        "ax.set_xlabel('epoch') ; ax.set_ylabel('Categorical Crossentropy Loss')\n",
        "\n",
        "# list of epoch numbers\n",
        "x = list(range(1,epochs+1))\n",
        "\n",
        "vy = history.history['val_loss']\n",
        "ty = history.history['loss']\n",
        "plt_dynamic(x, vy, ty, ax)"
      ],
      "execution_count": null,
      "outputs": [
        {
          "output_type": "stream",
          "text": [
            "Test loss: 0.06105709071709962\n",
            "Test accuracy: 0.9891\n"
          ],
          "name": "stdout"
        },
        {
          "output_type": "display_data",
          "data": {
            "image/png": "[encoded data removed]",
            "text/plain": [
              "<Figure size 432x288 with 1 Axes>"
            ]
          },
          "metadata": {
            "tags": []
          }
        }
      ]
    },
    {
      "cell_type": "markdown",
      "metadata": {
        "id": "S5jitCf18hpO"
      },
      "source": [
        "#### Observation:\n",
        "    From above plot we can see that train and test data loss are getting diverged."
      ]
    },
    {
      "cell_type": "markdown",
      "metadata": {
        "id": "TOalQAuLplQx"
      },
      "source": [
        "### Model 2 ( with padding), kernel_size=(2, 2) "
      ]
    },
    {
      "cell_type": "code",
      "metadata": {
        "id": "WBWCg3a0pzNJ",
        "outputId": "60b0bfad-4fd7-47a9-acd0-415d3cf6bcd6",
        "colab": {
          "base_uri": "https://localhost:8080/",
          "height": 632
        }
      },
      "source": [
        "import warnings\n",
        "\n",
        "model = Sequential()\n",
        "model.add(Conv2D(16, kernel_size=(2, 2),\n",
        "                 activation='relu',padding='same',\n",
        "                 input_shape=input_shape))\n",
        "model.add(Conv2D(32, (2, 2), activation='relu',padding='same'))\n",
        "model.add(Conv2D(64, (2, 2), activation='relu',padding='same'))\n",
        "model.add(Conv2D(128, (2, 2), activation='relu',padding='same'))\n",
        "model.add(Conv2D(256, (2, 2), activation='relu',padding='same'))\n",
        "model.add(MaxPooling2D(pool_size=(2, 2)))\n",
        "model.add(Flatten())\n",
        "model.add(Dense(128, activation='relu'))\n",
        "model.add(Dense(num_classes, activation='softmax'))\n",
        "print(model.summary())\n"
      ],
      "execution_count": null,
      "outputs": [
        {
          "output_type": "stream",
          "text": [
            "WARNING:tensorflow:From /usr/local/lib/python3.6/dist-packages/keras/backend/tensorflow_backend.py:66: The name tf.get_default_graph is deprecated. Please use tf.compat.v1.get_default_graph instead.\n",
            "\n",
            "WARNING:tensorflow:From /usr/local/lib/python3.6/dist-packages/keras/backend/tensorflow_backend.py:541: The name tf.placeholder is deprecated. Please use tf.compat.v1.placeholder instead.\n",
            "\n",
            "WARNING:tensorflow:From /usr/local/lib/python3.6/dist-packages/keras/backend/tensorflow_backend.py:4432: The name tf.random_uniform is deprecated. Please use tf.random.uniform instead.\n",
            "\n",
            "WARNING:tensorflow:From /usr/local/lib/python3.6/dist-packages/keras/backend/tensorflow_backend.py:4267: The name tf.nn.max_pool is deprecated. Please use tf.nn.max_pool2d instead.\n",
            "\n",
            "Model: \"sequential_1\"\n",
            "_________________________________________________________________\n",
            "Layer (type)                 Output Shape              Param #   \n",
            "=================================================================\n",
            "conv2d_1 (Conv2D)            (None, 28, 28, 16)        80        \n",
            "_________________________________________________________________\n",
            "conv2d_2 (Conv2D)            (None, 28, 28, 32)        2080      \n",
            "_________________________________________________________________\n",
            "conv2d_3 (Conv2D)            (None, 28, 28, 64)        8256      \n",
            "_________________________________________________________________\n",
            "conv2d_4 (Conv2D)            (None, 28, 28, 128)       32896     \n",
            "_________________________________________________________________\n",
            "conv2d_5 (Conv2D)            (None, 28, 28, 256)       131328    \n",
            "_________________________________________________________________\n",
            "max_pooling2d_1 (MaxPooling2 (None, 14, 14, 256)       0         \n",
            "_________________________________________________________________\n",
            "flatten_1 (Flatten)          (None, 50176)             0         \n",
            "_________________________________________________________________\n",
            "dense_1 (Dense)              (None, 128)               6422656   \n",
            "_________________________________________________________________\n",
            "dense_2 (Dense)              (None, 10)                1290      \n",
            "=================================================================\n",
            "Total params: 6,598,586\n",
            "Trainable params: 6,598,586\n",
            "Non-trainable params: 0\n",
            "_________________________________________________________________\n",
            "None\n"
          ],
          "name": "stdout"
        }
      ]
    },
    {
      "cell_type": "code",
      "metadata": {
        "id": "BGW0ttwHqfNN",
        "outputId": "98076419-d9f5-40c7-87a3-1b4960814815",
        "colab": {
          "base_uri": "https://localhost:8080/",
          "height": 445
        }
      },
      "source": [
        "model.compile(loss=keras.losses.categorical_crossentropy,\n",
        "              optimizer=keras.optimizers.Adadelta(),\n",
        "              metrics=['accuracy'])\n",
        "warnings.filterwarnings(\"ignore\")\n",
        "history = model.fit(x_train, y_train,\n",
        "          batch_size=batch_size,\n",
        "          epochs=epochs,\n",
        "          verbose=1,\n",
        "          validation_data=(x_test, y_test))\n"
      ],
      "execution_count": null,
      "outputs": [
        {
          "output_type": "stream",
          "text": [
            "WARNING:tensorflow:From /usr/local/lib/python3.6/dist-packages/keras/optimizers.py:793: The name tf.train.Optimizer is deprecated. Please use tf.compat.v1.train.Optimizer instead.\n",
            "\n",
            "WARNING:tensorflow:From /usr/local/lib/python3.6/dist-packages/keras/backend/tensorflow_backend.py:3576: The name tf.log is deprecated. Please use tf.math.log instead.\n",
            "\n",
            "WARNING:tensorflow:From /usr/local/lib/python3.6/dist-packages/tensorflow/python/ops/math_grad.py:1250: add_dispatch_support.<locals>.wrapper (from tensorflow.python.ops.array_ops) is deprecated and will be removed in a future version.\n",
            "Instructions for updating:\n",
            "Use tf.where in 2.0, which has the same broadcast rule as np.where\n",
            "Train on 60000 samples, validate on 10000 samples\n",
            "Epoch 1/8\n",
            "60000/60000 [==============================] - 1161s 19ms/step - loss: 0.2756 - acc: 0.9163 - val_loss: 0.0568 - val_acc: 0.9811\n",
            "Epoch 2/8\n",
            "60000/60000 [==============================] - 1171s 20ms/step - loss: 0.0813 - acc: 0.9757 - val_loss: 0.0466 - val_acc: 0.9847\n",
            "Epoch 3/8\n",
            "60000/60000 [==============================] - 1185s 20ms/step - loss: 0.0586 - acc: 0.9819 - val_loss: 0.0297 - val_acc: 0.9903\n",
            "Epoch 4/8\n",
            "60000/60000 [==============================] - 1155s 19ms/step - loss: 0.0458 - acc: 0.9859 - val_loss: 0.0318 - val_acc: 0.9898\n",
            "Epoch 5/8\n",
            "60000/60000 [==============================] - 1160s 19ms/step - loss: 0.0374 - acc: 0.9884 - val_loss: 0.0299 - val_acc: 0.9909\n",
            "Epoch 6/8\n",
            "60000/60000 [==============================] - 1160s 19ms/step - loss: 0.0320 - acc: 0.9906 - val_loss: 0.0253 - val_acc: 0.9915\n",
            "Epoch 7/8\n",
            "60000/60000 [==============================] - 1187s 20ms/step - loss: 0.0278 - acc: 0.9919 - val_loss: 0.0308 - val_acc: 0.9918\n",
            "Epoch 8/8\n",
            "60000/60000 [==============================] - 1161s 19ms/step - loss: 0.0253 - acc: 0.9926 - val_loss: 0.0288 - val_acc: 0.9914\n"
          ],
          "name": "stdout"
        }
      ]
    },
    {
      "cell_type": "code",
      "metadata": {
        "id": "Ua7LtT2AqjKL",
        "outputId": "644abb85-cf2d-4944-94c1-776a0e42ce0d",
        "colab": {
          "base_uri": "https://localhost:8080/",
          "height": 317
        }
      },
      "source": [
        "import matplotlib.pyplot as plt\n",
        "import numpy as np\n",
        "import time\n",
        "# https://gist.github.com/greydanus/f6eee59eaf1d90fcb3b534a25362cea4\n",
        "# https://stackoverflow.com/a/14434334\n",
        "# this function is used to update the plots for each epoch and error\n",
        "def plt_dynamic(x, vy, ty, ax, colors=['b']):\n",
        "    ax.plot(x, vy, 'b', label=\"Validation Loss\")\n",
        "    ax.plot(x, ty, 'r', label=\"Train Loss\")\n",
        "    plt.legend()\n",
        "    plt.grid()\n",
        "    fig.canvas.draw()\n",
        "\n",
        "score = model.evaluate(x_test, y_test, verbose=0)\n",
        "print('Test loss:', score[0])\n",
        "print('Test accuracy:', score[1])\n",
        "fig,ax = plt.subplots(1,1)\n",
        "ax.set_xlabel('epoch') ; ax.set_ylabel('Categorical Crossentropy Loss')\n",
        "\n",
        "# list of epoch numbers\n",
        "x = list(range(1,epochs+1))\n",
        "\n",
        "vy = history.history['val_loss']\n",
        "ty = history.history['loss']\n",
        "plt_dynamic(x, vy, ty, ax)"
      ],
      "execution_count": null,
      "outputs": [
        {
          "output_type": "stream",
          "text": [
            "Test loss: 0.028772561838423052\n",
            "Test accuracy: 0.9914\n"
          ],
          "name": "stdout"
        },
        {
          "output_type": "display_data",
          "data": {
            "image/png": "[encoded data removed]",
            "text/plain": [
              "<Figure size 432x288 with 1 Axes>"
            ]
          },
          "metadata": {
            "tags": []
          }
        }
      ]
    },
    {
      "cell_type": "markdown",
      "metadata": {
        "id": "j0EF5L4p2H9S"
      },
      "source": [
        "#### Observation:\n",
        "    From above plot we can see that train and test data loss are getting converged."
      ]
    },
    {
      "cell_type": "markdown",
      "metadata": {
        "id": "1EoEMld_poNI"
      },
      "source": [
        "### Model 2 ( with batch normal), kernel_size=(2, 2) "
      ]
    },
    {
      "cell_type": "code",
      "metadata": {
        "id": "6Jk8JXw0qGly",
        "outputId": "3aa35f0d-ca1e-44b0-9af6-71ca5a769980",
        "colab": {
          "base_uri": "https://localhost:8080/",
          "height": 870
        }
      },
      "source": [
        "import warnings\n",
        "\n",
        "model = Sequential()\n",
        "model.add(Conv2D(16, kernel_size=(2, 2),\n",
        "                 activation='relu',padding='same',\n",
        "                 input_shape=input_shape))\n",
        "model.add(Conv2D(32, (2, 2), activation='relu',padding='same'))\n",
        "model.add(Conv2D(64, (2, 2), activation='relu',padding='same'))\n",
        "model.add(BatchNormalization())\n",
        "model.add(Conv2D(128, (2, 2), activation='relu',padding='same'))\n",
        "model.add(Conv2D(256, (2, 2), activation='relu',padding='same'))\n",
        "model.add(BatchNormalization())\n",
        "model.add(MaxPooling2D(pool_size=(2, 2)))\n",
        "model.add(BatchNormalization())\n",
        "model.add(Flatten())\n",
        "model.add(Dense(128, activation='relu'))\n",
        "model.add(BatchNormalization())\n",
        "model.add(Dense(num_classes, activation='softmax'))\n",
        "print(model.summary())\n"
      ],
      "execution_count": null,
      "outputs": [
        {
          "output_type": "stream",
          "text": [
            "WARNING:tensorflow:From /usr/local/lib/python3.6/dist-packages/keras/backend/tensorflow_backend.py:66: The name tf.get_default_graph is deprecated. Please use tf.compat.v1.get_default_graph instead.\n",
            "\n",
            "WARNING:tensorflow:From /usr/local/lib/python3.6/dist-packages/keras/backend/tensorflow_backend.py:541: The name tf.placeholder is deprecated. Please use tf.compat.v1.placeholder instead.\n",
            "\n",
            "WARNING:tensorflow:From /usr/local/lib/python3.6/dist-packages/keras/backend/tensorflow_backend.py:4432: The name tf.random_uniform is deprecated. Please use tf.random.uniform instead.\n",
            "\n",
            "WARNING:tensorflow:From /usr/local/lib/python3.6/dist-packages/keras/backend/tensorflow_backend.py:190: The name tf.get_default_session is deprecated. Please use tf.compat.v1.get_default_session instead.\n",
            "\n",
            "WARNING:tensorflow:From /usr/local/lib/python3.6/dist-packages/keras/backend/tensorflow_backend.py:197: The name tf.ConfigProto is deprecated. Please use tf.compat.v1.ConfigProto instead.\n",
            "\n",
            "WARNING:tensorflow:From /usr/local/lib/python3.6/dist-packages/keras/backend/tensorflow_backend.py:2041: The name tf.nn.fused_batch_norm is deprecated. Please use tf.compat.v1.nn.fused_batch_norm instead.\n",
            "\n",
            "WARNING:tensorflow:From /usr/local/lib/python3.6/dist-packages/keras/backend/tensorflow_backend.py:4267: The name tf.nn.max_pool is deprecated. Please use tf.nn.max_pool2d instead.\n",
            "\n",
            "Model: \"sequential_1\"\n",
            "_________________________________________________________________\n",
            "Layer (type)                 Output Shape              Param #   \n",
            "=================================================================\n",
            "conv2d_1 (Conv2D)            (None, 28, 28, 16)        80        \n",
            "_________________________________________________________________\n",
            "conv2d_2 (Conv2D)            (None, 28, 28, 32)        2080      \n",
            "_________________________________________________________________\n",
            "conv2d_3 (Conv2D)            (None, 28, 28, 64)        8256      \n",
            "_________________________________________________________________\n",
            "batch_normalization_1 (Batch (None, 28, 28, 64)        256       \n",
            "_________________________________________________________________\n",
            "conv2d_4 (Conv2D)            (None, 28, 28, 128)       32896     \n",
            "_________________________________________________________________\n",
            "conv2d_5 (Conv2D)            (None, 28, 28, 256)       131328    \n",
            "_________________________________________________________________\n",
            "batch_normalization_2 (Batch (None, 28, 28, 256)       1024      \n",
            "_________________________________________________________________\n",
            "max_pooling2d_1 (MaxPooling2 (None, 14, 14, 256)       0         \n",
            "_________________________________________________________________\n",
            "batch_normalization_3 (Batch (None, 14, 14, 256)       1024      \n",
            "_________________________________________________________________\n",
            "flatten_1 (Flatten)          (None, 50176)             0         \n",
            "_________________________________________________________________\n",
            "dense_1 (Dense)              (None, 128)               6422656   \n",
            "_________________________________________________________________\n",
            "batch_normalization_4 (Batch (None, 128)               512       \n",
            "_________________________________________________________________\n",
            "dense_2 (Dense)              (None, 10)                1290      \n",
            "=================================================================\n",
            "Total params: 6,601,402\n",
            "Trainable params: 6,599,994\n",
            "Non-trainable params: 1,408\n",
            "_________________________________________________________________\n",
            "None\n"
          ],
          "name": "stdout"
        }
      ]
    },
    {
      "cell_type": "code",
      "metadata": {
        "id": "dVetbDHNqgU8",
        "outputId": "d1008e75-6ecf-4ff7-bd92-37d95c20833b",
        "colab": {
          "base_uri": "https://localhost:8080/",
          "height": 306
        }
      },
      "source": [
        "model.compile(loss=keras.losses.categorical_crossentropy,\n",
        "              optimizer=keras.optimizers.Adadelta(),\n",
        "              metrics=['accuracy'])\n",
        "warnings.filterwarnings(\"ignore\")\n",
        "history = model.fit(x_train, y_train,\n",
        "          batch_size=batch_size,\n",
        "          epochs=epochs,\n",
        "          verbose=1,\n",
        "          validation_data=(x_test, y_test))\n"
      ],
      "execution_count": null,
      "outputs": [
        {
          "output_type": "stream",
          "text": [
            "Train on 60000 samples, validate on 10000 samples\n",
            "Epoch 1/8\n",
            "60000/60000 [==============================] - 1815s 30ms/step - loss: 0.0695 - acc: 0.9801 - val_loss: 0.0438 - val_acc: 0.9867\n",
            "Epoch 2/8\n",
            "60000/60000 [==============================] - 1804s 30ms/step - loss: 0.0256 - acc: 0.9923 - val_loss: 0.0460 - val_acc: 0.9850\n",
            "Epoch 3/8\n",
            "60000/60000 [==============================] - 1817s 30ms/step - loss: 0.0121 - acc: 0.9968 - val_loss: 0.0279 - val_acc: 0.9906\n",
            "Epoch 4/8\n",
            "60000/60000 [==============================] - 1816s 30ms/step - loss: 0.0071 - acc: 0.9981 - val_loss: 0.0398 - val_acc: 0.9879\n",
            "Epoch 5/8\n",
            "60000/60000 [==============================] - 1820s 30ms/step - loss: 0.0036 - acc: 0.9992 - val_loss: 0.0273 - val_acc: 0.9916\n",
            "Epoch 6/8\n",
            "60000/60000 [==============================] - 1817s 30ms/step - loss: 0.0013 - acc: 0.9998 - val_loss: 0.0289 - val_acc: 0.9914\n",
            "Epoch 7/8\n",
            "60000/60000 [==============================] - 1816s 30ms/step - loss: 5.0714e-04 - acc: 1.0000 - val_loss: 0.0306 - val_acc: 0.9909\n",
            "Epoch 8/8\n",
            "60000/60000 [==============================] - 1813s 30ms/step - loss: 2.4149e-04 - acc: 1.0000 - val_loss: 0.0269 - val_acc: 0.9920\n"
          ],
          "name": "stdout"
        }
      ]
    },
    {
      "cell_type": "code",
      "metadata": {
        "id": "9_dyj_lHqkKX",
        "outputId": "7accdc5f-04f1-4892-8409-953f5ce0a426",
        "colab": {
          "base_uri": "https://localhost:8080/",
          "height": 317
        }
      },
      "source": [
        "import matplotlib.pyplot as plt\n",
        "import numpy as np\n",
        "import time\n",
        "# https://gist.github.com/greydanus/f6eee59eaf1d90fcb3b534a25362cea4\n",
        "# https://stackoverflow.com/a/14434334\n",
        "# this function is used to update the plots for each epoch and error\n",
        "def plt_dynamic(x, vy, ty, ax, colors=['b']):\n",
        "    ax.plot(x, vy, 'b', label=\"Validation Loss\")\n",
        "    ax.plot(x, ty, 'r', label=\"Train Loss\")\n",
        "    plt.legend()\n",
        "    plt.grid()\n",
        "    fig.canvas.draw()\n",
        "\n",
        "score = model.evaluate(x_test, y_test, verbose=0)\n",
        "print('Test loss:', score[0])\n",
        "print('Test accuracy:', score[1])\n",
        "fig,ax = plt.subplots(1,1)\n",
        "ax.set_xlabel('epoch') ; ax.set_ylabel('Categorical Crossentropy Loss')\n",
        "\n",
        "# list of epoch numbers\n",
        "x = list(range(1,epochs+1))\n",
        "\n",
        "vy = history.history['val_loss']\n",
        "ty = history.history['loss']\n",
        "plt_dynamic(x, vy, ty, ax)"
      ],
      "execution_count": null,
      "outputs": [
        {
          "output_type": "stream",
          "text": [
            "Test loss: 0.026885366498380973\n",
            "Test accuracy: 0.992\n"
          ],
          "name": "stdout"
        },
        {
          "output_type": "display_data",
          "data": {
            "image/png": "[encoded data removed]",
            "text/plain": [
              "<Figure size 432x288 with 1 Axes>"
            ]
          },
          "metadata": {
            "tags": []
          }
        }
      ]
    },
    {
      "cell_type": "markdown",
      "metadata": {
        "id": "u8sDMZU02OJj"
      },
      "source": [
        "#### Observation:\n",
        "    From above plot we can see that train and test data loss are getting diverged."
      ]
    },
    {
      "cell_type": "markdown",
      "metadata": {
        "id": "0viRo4Rlposa"
      },
      "source": [
        "### Model 2 (with dropout), kernel_size=(2, 2) "
      ]
    },
    {
      "cell_type": "code",
      "metadata": {
        "id": "eHO5xIZhXuFx",
        "outputId": "c4608578-3472-46cb-fc34-fce587c601d8",
        "colab": {
          "base_uri": "https://localhost:8080/",
          "height": 955
        }
      },
      "source": [
        "import warnings\n",
        "\n",
        "model = Sequential()\n",
        "model.add(Conv2D(16, kernel_size=(2, 2),\n",
        "                 activation='relu',padding='same',\n",
        "                 input_shape=input_shape))\n",
        "model.add(Conv2D(32, (2, 2), activation='relu',padding='same'))\n",
        "model.add(BatchNormalization())\n",
        "model.add(Conv2D(64, (2, 2), activation='relu',padding='same'))\n",
        "model.add(Dropout(0.50))\n",
        "model.add(Conv2D(128, (2, 2), activation='relu',padding='same'))\n",
        "model.add(Conv2D(256, (2, 2), activation='relu',padding='same'))\n",
        "model.add(Dropout(0.50))\n",
        "model.add(MaxPooling2D(pool_size=(2, 2)))\n",
        "model.add(Dropout(0.25))\n",
        "model.add(Flatten())\n",
        "model.add(Dense(128, activation='relu'))\n",
        "model.add(Dropout(0.5))\n",
        "model.add(Dense(num_classes, activation='softmax'))\n",
        "print(model.summary())\n"
      ],
      "execution_count": null,
      "outputs": [
        {
          "output_type": "stream",
          "text": [
            "WARNING:tensorflow:From /usr/local/lib/python3.6/dist-packages/keras/backend/tensorflow_backend.py:66: The name tf.get_default_graph is deprecated. Please use tf.compat.v1.get_default_graph instead.\n",
            "\n",
            "WARNING:tensorflow:From /usr/local/lib/python3.6/dist-packages/keras/backend/tensorflow_backend.py:541: The name tf.placeholder is deprecated. Please use tf.compat.v1.placeholder instead.\n",
            "\n",
            "WARNING:tensorflow:From /usr/local/lib/python3.6/dist-packages/keras/backend/tensorflow_backend.py:4432: The name tf.random_uniform is deprecated. Please use tf.random.uniform instead.\n",
            "\n",
            "WARNING:tensorflow:From /usr/local/lib/python3.6/dist-packages/keras/backend/tensorflow_backend.py:190: The name tf.get_default_session is deprecated. Please use tf.compat.v1.get_default_session instead.\n",
            "\n",
            "WARNING:tensorflow:From /usr/local/lib/python3.6/dist-packages/keras/backend/tensorflow_backend.py:197: The name tf.ConfigProto is deprecated. Please use tf.compat.v1.ConfigProto instead.\n",
            "\n",
            "WARNING:tensorflow:From /usr/local/lib/python3.6/dist-packages/keras/backend/tensorflow_backend.py:2041: The name tf.nn.fused_batch_norm is deprecated. Please use tf.compat.v1.nn.fused_batch_norm instead.\n",
            "\n",
            "WARNING:tensorflow:From /usr/local/lib/python3.6/dist-packages/keras/backend/tensorflow_backend.py:3733: calling dropout (from tensorflow.python.ops.nn_ops) with keep_prob is deprecated and will be removed in a future version.\n",
            "Instructions for updating:\n",
            "Please use `rate` instead of `keep_prob`. Rate should be set to `rate = 1 - keep_prob`.\n",
            "WARNING:tensorflow:From /usr/local/lib/python3.6/dist-packages/keras/backend/tensorflow_backend.py:4267: The name tf.nn.max_pool is deprecated. Please use tf.nn.max_pool2d instead.\n",
            "\n",
            "Model: \"sequential_1\"\n",
            "_________________________________________________________________\n",
            "Layer (type)                 Output Shape              Param #   \n",
            "=================================================================\n",
            "conv2d_1 (Conv2D)            (None, 28, 28, 16)        80        \n",
            "_________________________________________________________________\n",
            "conv2d_2 (Conv2D)            (None, 28, 28, 32)        2080      \n",
            "_________________________________________________________________\n",
            "batch_normalization_1 (Batch (None, 28, 28, 32)        128       \n",
            "_________________________________________________________________\n",
            "conv2d_3 (Conv2D)            (None, 28, 28, 64)        8256      \n",
            "_________________________________________________________________\n",
            "dropout_1 (Dropout)          (None, 28, 28, 64)        0         \n",
            "_________________________________________________________________\n",
            "conv2d_4 (Conv2D)            (None, 28, 28, 128)       32896     \n",
            "_________________________________________________________________\n",
            "conv2d_5 (Conv2D)            (None, 28, 28, 256)       131328    \n",
            "_________________________________________________________________\n",
            "dropout_2 (Dropout)          (None, 28, 28, 256)       0         \n",
            "_________________________________________________________________\n",
            "max_pooling2d_1 (MaxPooling2 (None, 14, 14, 256)       0         \n",
            "_________________________________________________________________\n",
            "dropout_3 (Dropout)          (None, 14, 14, 256)       0         \n",
            "_________________________________________________________________\n",
            "flatten_1 (Flatten)          (None, 50176)             0         \n",
            "_________________________________________________________________\n",
            "dense_1 (Dense)              (None, 128)               6422656   \n",
            "_________________________________________________________________\n",
            "dropout_4 (Dropout)          (None, 128)               0         \n",
            "_________________________________________________________________\n",
            "dense_2 (Dense)              (None, 10)                1290      \n",
            "=================================================================\n",
            "Total params: 6,598,714\n",
            "Trainable params: 6,598,650\n",
            "Non-trainable params: 64\n",
            "_________________________________________________________________\n",
            "None\n"
          ],
          "name": "stdout"
        }
      ]
    },
    {
      "cell_type": "code",
      "metadata": {
        "id": "uB-aD7zfGtZ4",
        "outputId": "34792e57-9592-47bb-f999-7ea12d68b1d3",
        "colab": {
          "base_uri": "https://localhost:8080/",
          "height": 306
        }
      },
      "source": [
        "model.compile(loss=keras.losses.categorical_crossentropy,\n",
        "              optimizer=keras.optimizers.Adadelta(),\n",
        "              metrics=['accuracy'])\n",
        "warnings.filterwarnings(\"ignore\")\n",
        "history = model.fit(x_train, y_train,\n",
        "          batch_size=batch_size,\n",
        "          epochs=epochs,\n",
        "          verbose=1,\n",
        "          validation_data=(x_test, y_test))\n"
      ],
      "execution_count": null,
      "outputs": [
        {
          "output_type": "stream",
          "text": [
            "Train on 60000 samples, validate on 10000 samples\n",
            "Epoch 1/8\n",
            "60000/60000 [==============================] - 1395s 23ms/step - loss: 0.3289 - acc: 0.8980 - val_loss: 0.0680 - val_acc: 0.9807\n",
            "Epoch 2/8\n",
            "60000/60000 [==============================] - 1399s 23ms/step - loss: 0.1074 - acc: 0.9677 - val_loss: 0.0539 - val_acc: 0.9840\n",
            "Epoch 3/8\n",
            "60000/60000 [==============================] - 1404s 23ms/step - loss: 0.0821 - acc: 0.9763 - val_loss: 0.0436 - val_acc: 0.9875\n",
            "Epoch 4/8\n",
            "60000/60000 [==============================] - 1405s 23ms/step - loss: 0.0698 - acc: 0.9797 - val_loss: 0.0384 - val_acc: 0.9868\n",
            "Epoch 5/8\n",
            "60000/60000 [==============================] - 1401s 23ms/step - loss: 0.0603 - acc: 0.9826 - val_loss: 0.0337 - val_acc: 0.9887\n",
            "Epoch 6/8\n",
            "60000/60000 [==============================] - 1412s 24ms/step - loss: 0.0564 - acc: 0.9838 - val_loss: 0.0281 - val_acc: 0.9897\n",
            "Epoch 7/8\n",
            "60000/60000 [==============================] - 1406s 23ms/step - loss: 0.0538 - acc: 0.9848 - val_loss: 0.0346 - val_acc: 0.9896\n",
            "Epoch 8/8\n",
            "60000/60000 [==============================] - 1401s 23ms/step - loss: 0.0522 - acc: 0.9858 - val_loss: 0.0356 - val_acc: 0.9880\n"
          ],
          "name": "stdout"
        }
      ]
    },
    {
      "cell_type": "code",
      "metadata": {
        "id": "EfWa0M3RqlTc",
        "outputId": "852927c6-2182-4198-cc2b-d515703b038c",
        "colab": {
          "base_uri": "https://localhost:8080/",
          "height": 317
        }
      },
      "source": [
        "import matplotlib.pyplot as plt\n",
        "import numpy as np\n",
        "import time\n",
        "# https://gist.github.com/greydanus/f6eee59eaf1d90fcb3b534a25362cea4\n",
        "# https://stackoverflow.com/a/14434334\n",
        "# this function is used to update the plots for each epoch and error\n",
        "def plt_dynamic(x, vy, ty, ax, colors=['b']):\n",
        "    ax.plot(x, vy, 'b', label=\"Validation Loss\")\n",
        "    ax.plot(x, ty, 'r', label=\"Train Loss\")\n",
        "    plt.legend()\n",
        "    plt.grid()\n",
        "    fig.canvas.draw()\n",
        "\n",
        "score = model.evaluate(x_test, y_test, verbose=0)\n",
        "print('Test loss:', score[0])\n",
        "print('Test accuracy:', score[1])\n",
        "fig,ax = plt.subplots(1,1)\n",
        "ax.set_xlabel('epoch') ; ax.set_ylabel('Categorical Crossentropy Loss')\n",
        "\n",
        "# list of epoch numbers\n",
        "x = list(range(1,epochs+1))\n",
        "\n",
        "vy = history.history['val_loss']\n",
        "ty = history.history['loss']\n",
        "plt_dynamic(x, vy, ty, ax)"
      ],
      "execution_count": null,
      "outputs": [
        {
          "output_type": "stream",
          "text": [
            "Test loss: 0.035588841447234155\n",
            "Test accuracy: 0.988\n"
          ],
          "name": "stdout"
        },
        {
          "output_type": "display_data",
          "data": {
            "image/png": "[encoded data removed]",
            "text/plain": [
              "<Figure size 432x288 with 1 Axes>"
            ]
          },
          "metadata": {
            "tags": []
          }
        }
      ]
    },
    {
      "cell_type": "markdown",
      "metadata": {
        "id": "hQYUBx2o2Qux"
      },
      "source": [
        "#### Observation:\n",
        "    From above plot we can see that train and test data loss are getting converged."
      ]
    },
    {
      "cell_type": "markdown",
      "metadata": {
        "id": "UVylq3xpeBXK"
      },
      "source": [
        "### Model 3 (with batch normal), kernel_size=(2, 2) "
      ]
    },
    {
      "cell_type": "code",
      "metadata": {
        "id": "vqpxSDM95nwZ",
        "outputId": "a3f15d6c-2d59-4727-bd8e-07d82d9d23e3",
        "colab": {
          "base_uri": "https://localhost:8080/",
          "height": 904
        }
      },
      "source": [
        "import warnings\n",
        "\n",
        "model = Sequential()\n",
        "model.add(Conv2D(8, kernel_size=(2, 2),\n",
        "                 activation='relu',padding='same',\n",
        "                 input_shape=input_shape))\n",
        "model.add(Conv2D(16, (2, 2), activation='relu',padding='same'))\n",
        "model.add(Conv2D(32, (2, 2), activation='relu',padding='same'))\n",
        "model.add(BatchNormalization())\n",
        "model.add(Conv2D(64, (2, 2), activation='relu',padding='same'))\n",
        "model.add(Conv2D(128, (2, 2), activation='relu',padding='same'))\n",
        "model.add(MaxPooling2D(pool_size=(2, 2)))\n",
        "model.add(Conv2D(256, (2, 2), activation='relu',padding='same'))\n",
        "model.add(BatchNormalization())\n",
        "model.add(Conv2D(512, (2, 2), activation='relu',padding='same'))\n",
        "model.add(MaxPooling2D(pool_size=(2, 2)))\n",
        "model.add(Flatten())\n",
        "model.add(Dense(128, activation='relu'))\n",
        "model.add(Dense(num_classes, activation='softmax'))\n",
        "print(model.summary())"
      ],
      "execution_count": null,
      "outputs": [
        {
          "output_type": "stream",
          "text": [
            "WARNING:tensorflow:From /usr/local/lib/python3.6/dist-packages/keras/backend/tensorflow_backend.py:66: The name tf.get_default_graph is deprecated. Please use tf.compat.v1.get_default_graph instead.\n",
            "\n",
            "WARNING:tensorflow:From /usr/local/lib/python3.6/dist-packages/keras/backend/tensorflow_backend.py:541: The name tf.placeholder is deprecated. Please use tf.compat.v1.placeholder instead.\n",
            "\n",
            "WARNING:tensorflow:From /usr/local/lib/python3.6/dist-packages/keras/backend/tensorflow_backend.py:4432: The name tf.random_uniform is deprecated. Please use tf.random.uniform instead.\n",
            "\n",
            "WARNING:tensorflow:From /usr/local/lib/python3.6/dist-packages/keras/backend/tensorflow_backend.py:190: The name tf.get_default_session is deprecated. Please use tf.compat.v1.get_default_session instead.\n",
            "\n",
            "WARNING:tensorflow:From /usr/local/lib/python3.6/dist-packages/keras/backend/tensorflow_backend.py:197: The name tf.ConfigProto is deprecated. Please use tf.compat.v1.ConfigProto instead.\n",
            "\n",
            "WARNING:tensorflow:From /usr/local/lib/python3.6/dist-packages/keras/backend/tensorflow_backend.py:2041: The name tf.nn.fused_batch_norm is deprecated. Please use tf.compat.v1.nn.fused_batch_norm instead.\n",
            "\n",
            "WARNING:tensorflow:From /usr/local/lib/python3.6/dist-packages/keras/backend/tensorflow_backend.py:4267: The name tf.nn.max_pool is deprecated. Please use tf.nn.max_pool2d instead.\n",
            "\n",
            "Model: \"sequential_1\"\n",
            "_________________________________________________________________\n",
            "Layer (type)                 Output Shape              Param #   \n",
            "=================================================================\n",
            "conv2d_1 (Conv2D)            (None, 28, 28, 8)         40        \n",
            "_________________________________________________________________\n",
            "conv2d_2 (Conv2D)            (None, 28, 28, 16)        528       \n",
            "_________________________________________________________________\n",
            "conv2d_3 (Conv2D)            (None, 28, 28, 32)        2080      \n",
            "_________________________________________________________________\n",
            "batch_normalization_1 (Batch (None, 28, 28, 32)        128       \n",
            "_________________________________________________________________\n",
            "conv2d_4 (Conv2D)            (None, 28, 28, 64)        8256      \n",
            "_________________________________________________________________\n",
            "conv2d_5 (Conv2D)            (None, 28, 28, 128)       32896     \n",
            "_________________________________________________________________\n",
            "max_pooling2d_1 (MaxPooling2 (None, 14, 14, 128)       0         \n",
            "_________________________________________________________________\n",
            "conv2d_6 (Conv2D)            (None, 14, 14, 256)       131328    \n",
            "_________________________________________________________________\n",
            "batch_normalization_2 (Batch (None, 14, 14, 256)       1024      \n",
            "_________________________________________________________________\n",
            "conv2d_7 (Conv2D)            (None, 14, 14, 512)       524800    \n",
            "_________________________________________________________________\n",
            "max_pooling2d_2 (MaxPooling2 (None, 7, 7, 512)         0         \n",
            "_________________________________________________________________\n",
            "flatten_1 (Flatten)          (None, 25088)             0         \n",
            "_________________________________________________________________\n",
            "dense_1 (Dense)              (None, 128)               3211392   \n",
            "_________________________________________________________________\n",
            "dense_2 (Dense)              (None, 10)                1290      \n",
            "=================================================================\n",
            "Total params: 3,913,762\n",
            "Trainable params: 3,913,186\n",
            "Non-trainable params: 576\n",
            "_________________________________________________________________\n",
            "None\n"
          ],
          "name": "stdout"
        }
      ]
    },
    {
      "cell_type": "code",
      "metadata": {
        "id": "4wqeNw8JB6tZ",
        "outputId": "738b6230-d4bd-49ec-bd9d-642b7614a904",
        "colab": {
          "base_uri": "https://localhost:8080/",
          "height": 411
        }
      },
      "source": [
        "model.compile(loss=keras.losses.categorical_crossentropy,\n",
        "              optimizer=keras.optimizers.Adadelta(),\n",
        "              metrics=['accuracy'])\n",
        "warnings.filterwarnings(\"ignore\")\n",
        "history = model.fit(x_train, y_train,\n",
        "          batch_size=batch_size,\n",
        "          epochs=epochs,\n",
        "          verbose=1,\n",
        "          validation_data=(x_test, y_test))\n"
      ],
      "execution_count": null,
      "outputs": [
        {
          "output_type": "stream",
          "text": [
            "WARNING:tensorflow:From /usr/local/lib/python3.6/dist-packages/keras/optimizers.py:793: The name tf.train.Optimizer is deprecated. Please use tf.compat.v1.train.Optimizer instead.\n",
            "\n",
            "WARNING:tensorflow:From /usr/local/lib/python3.6/dist-packages/tensorflow/python/ops/math_grad.py:1250: add_dispatch_support.<locals>.wrapper (from tensorflow.python.ops.array_ops) is deprecated and will be removed in a future version.\n",
            "Instructions for updating:\n",
            "Use tf.where in 2.0, which has the same broadcast rule as np.where\n",
            "Train on 60000 samples, validate on 10000 samples\n",
            "Epoch 1/8\n",
            "60000/60000 [==============================] - 1731s 29ms/step - loss: 0.2925 - acc: 0.9064 - val_loss: 0.1820 - val_acc: 0.9485\n",
            "Epoch 2/8\n",
            "60000/60000 [==============================] - 1683s 28ms/step - loss: 0.0546 - acc: 0.9836 - val_loss: 0.1304 - val_acc: 0.9665\n",
            "Epoch 3/8\n",
            "60000/60000 [==============================] - 1660s 28ms/step - loss: 0.0351 - acc: 0.9893 - val_loss: 0.0901 - val_acc: 0.9730\n",
            "Epoch 4/8\n",
            "60000/60000 [==============================] - 1634s 27ms/step - loss: 0.0235 - acc: 0.9931 - val_loss: 0.1512 - val_acc: 0.9484\n",
            "Epoch 5/8\n",
            "60000/60000 [==============================] - 1691s 28ms/step - loss: 0.0166 - acc: 0.9952 - val_loss: 0.0337 - val_acc: 0.9905\n",
            "Epoch 6/8\n",
            "60000/60000 [==============================] - 1677s 28ms/step - loss: 0.0119 - acc: 0.9967 - val_loss: 0.0287 - val_acc: 0.9932\n",
            "Epoch 7/8\n",
            "60000/60000 [==============================] - 1679s 28ms/step - loss: 0.0082 - acc: 0.9976 - val_loss: 0.0309 - val_acc: 0.9923\n",
            "Epoch 8/8\n",
            "60000/60000 [==============================] - 1706s 28ms/step - loss: 0.0059 - acc: 0.9984 - val_loss: 0.0646 - val_acc: 0.9797\n"
          ],
          "name": "stdout"
        }
      ]
    },
    {
      "cell_type": "code",
      "metadata": {
        "id": "4XhMJWLi6SwF",
        "outputId": "7386f806-4bc2-4116-c41c-419b535c7cef",
        "colab": {
          "base_uri": "https://localhost:8080/",
          "height": 317
        }
      },
      "source": [
        "import matplotlib.pyplot as plt\n",
        "import numpy as np\n",
        "import time\n",
        "# https://gist.github.com/greydanus/f6eee59eaf1d90fcb3b534a25362cea4\n",
        "# https://stackoverflow.com/a/14434334\n",
        "# this function is used to update the plots for each epoch and error\n",
        "def plt_dynamic(x, vy, ty, ax, colors=['b']):\n",
        "    ax.plot(x, vy, 'b', label=\"Validation Loss\")\n",
        "    ax.plot(x, ty, 'r', label=\"Train Loss\")\n",
        "    plt.legend()\n",
        "    plt.grid()\n",
        "    fig.canvas.draw()\n",
        "\n",
        "score = model.evaluate(x_test, y_test, verbose=0)\n",
        "print('Test loss:', score[0])\n",
        "print('Test accuracy:', score[1])\n",
        "fig,ax = plt.subplots(1,1)\n",
        "ax.set_xlabel('epoch') ; ax.set_ylabel('Categorical Crossentropy Loss')\n",
        "\n",
        "# list of epoch numbers\n",
        "x = list(range(1,epochs+1))\n",
        "\n",
        "vy = history.history['val_loss']\n",
        "ty = history.history['loss']\n",
        "plt_dynamic(x, vy, ty, ax)"
      ],
      "execution_count": null,
      "outputs": [
        {
          "output_type": "stream",
          "text": [
            "Test loss: 0.0645820923813153\n",
            "Test accuracy: 0.9797\n"
          ],
          "name": "stdout"
        },
        {
          "output_type": "display_data",
          "data": {
            "image/png": "[encoded data removed]",
            "text/plain": [
              "<Figure size 432x288 with 1 Axes>"
            ]
          },
          "metadata": {
            "tags": []
          }
        }
      ]
    },
    {
      "cell_type": "markdown",
      "metadata": {
        "id": "LhYy_6312Urx"
      },
      "source": [
        "#### Observation:\n",
        "    From above plot we can see that train and test data loss are getting diverged."
      ]
    },
    {
      "cell_type": "markdown",
      "metadata": {
        "id": "WvoNd2dw2xbM"
      },
      "source": [
        "### Model 3 (normal), kernel_size=(2, 2) "
      ]
    },
    {
      "cell_type": "code",
      "metadata": {
        "id": "r-iTGayfd6yv",
        "outputId": "86b6eac3-3eb1-4825-d5f1-c2a9baa2ba68",
        "colab": {
          "base_uri": "https://localhost:8080/",
          "height": 632
        }
      },
      "source": [
        "import warnings\n",
        "\n",
        "model = Sequential()\n",
        "model.add(Conv2D(8, kernel_size=(1, 1),\n",
        "                 activation='relu',padding='same',\n",
        "                 input_shape=input_shape))\n",
        "model.add(Conv2D(16, (2, 2), activation='relu'))\n",
        "model.add(Conv2D(32, (2, 2), activation='relu'))\n",
        "model.add(Conv2D(64, (2, 2), activation='relu'))\n",
        "model.add(Conv2D(128, (2, 2), activation='relu',))\n",
        "model.add(Conv2D(256, (2, 2), activation='relu'))\n",
        "model.add(Conv2D(512, (2, 2), activation='relu'))\n",
        "model.add(Flatten())\n",
        "model.add(Dense(128, activation='relu'))\n",
        "model.add(Dense(num_classes, activation='softmax'))\n",
        "print(model.summary())"
      ],
      "execution_count": null,
      "outputs": [
        {
          "output_type": "stream",
          "text": [
            "WARNING:tensorflow:From /usr/local/lib/python3.6/dist-packages/keras/backend/tensorflow_backend.py:66: The name tf.get_default_graph is deprecated. Please use tf.compat.v1.get_default_graph instead.\n",
            "\n",
            "WARNING:tensorflow:From /usr/local/lib/python3.6/dist-packages/keras/backend/tensorflow_backend.py:541: The name tf.placeholder is deprecated. Please use tf.compat.v1.placeholder instead.\n",
            "\n",
            "WARNING:tensorflow:From /usr/local/lib/python3.6/dist-packages/keras/backend/tensorflow_backend.py:4432: The name tf.random_uniform is deprecated. Please use tf.random.uniform instead.\n",
            "\n",
            "Model: \"sequential_1\"\n",
            "_________________________________________________________________\n",
            "Layer (type)                 Output Shape              Param #   \n",
            "=================================================================\n",
            "conv2d_1 (Conv2D)            (None, 28, 28, 8)         16        \n",
            "_________________________________________________________________\n",
            "conv2d_2 (Conv2D)            (None, 27, 27, 16)        528       \n",
            "_________________________________________________________________\n",
            "conv2d_3 (Conv2D)            (None, 26, 26, 32)        2080      \n",
            "_________________________________________________________________\n",
            "conv2d_4 (Conv2D)            (None, 25, 25, 64)        8256      \n",
            "_________________________________________________________________\n",
            "conv2d_5 (Conv2D)            (None, 24, 24, 128)       32896     \n",
            "_________________________________________________________________\n",
            "conv2d_6 (Conv2D)            (None, 23, 23, 256)       131328    \n",
            "_________________________________________________________________\n",
            "conv2d_7 (Conv2D)            (None, 22, 22, 512)       524800    \n",
            "_________________________________________________________________\n",
            "flatten_1 (Flatten)          (None, 247808)            0         \n",
            "_________________________________________________________________\n",
            "dense_1 (Dense)              (None, 128)               31719552  \n",
            "_________________________________________________________________\n",
            "dense_2 (Dense)              (None, 10)                1290      \n",
            "=================================================================\n",
            "Total params: 32,420,746\n",
            "Trainable params: 32,420,746\n",
            "Non-trainable params: 0\n",
            "_________________________________________________________________\n",
            "None\n"
          ],
          "name": "stdout"
        }
      ]
    },
    {
      "cell_type": "code",
      "metadata": {
        "id": "K2UA7izVe7xP",
        "outputId": "fbbe4bb8-4bcf-4419-da2b-d54b337dcba8",
        "colab": {
          "base_uri": "https://localhost:8080/",
          "height": 479
        }
      },
      "source": [
        "model.compile(loss=keras.losses.categorical_crossentropy,\n",
        "              optimizer=keras.optimizers.Adadelta(),\n",
        "              metrics=['accuracy'])\n",
        "warnings.filterwarnings(\"ignore\")\n",
        "history = model.fit(x_train, y_train,\n",
        "          batch_size=batch_size,\n",
        "          epochs=epochs,\n",
        "          verbose=1,\n",
        "          validation_data=(x_test, y_test))\n"
      ],
      "execution_count": null,
      "outputs": [
        {
          "output_type": "stream",
          "text": [
            "WARNING:tensorflow:From /usr/local/lib/python3.6/dist-packages/keras/optimizers.py:793: The name tf.train.Optimizer is deprecated. Please use tf.compat.v1.train.Optimizer instead.\n",
            "\n",
            "WARNING:tensorflow:From /usr/local/lib/python3.6/dist-packages/keras/backend/tensorflow_backend.py:3576: The name tf.log is deprecated. Please use tf.math.log instead.\n",
            "\n",
            "WARNING:tensorflow:From /usr/local/lib/python3.6/dist-packages/tensorflow/python/ops/math_grad.py:1250: add_dispatch_support.<locals>.wrapper (from tensorflow.python.ops.array_ops) is deprecated and will be removed in a future version.\n",
            "Instructions for updating:\n",
            "Use tf.where in 2.0, which has the same broadcast rule as np.where\n",
            "WARNING:tensorflow:From /usr/local/lib/python3.6/dist-packages/keras/backend/tensorflow_backend.py:1033: The name tf.assign_add is deprecated. Please use tf.compat.v1.assign_add instead.\n",
            "\n",
            "Train on 60000 samples, validate on 10000 samples\n",
            "Epoch 1/8\n",
            "60000/60000 [==============================] - 3244s 54ms/step - loss: 0.2812 - acc: 0.9138 - val_loss: 0.0669 - val_acc: 0.9799\n",
            "Epoch 2/8\n",
            "60000/60000 [==============================] - 3227s 54ms/step - loss: 0.0528 - acc: 0.9841 - val_loss: 0.0486 - val_acc: 0.9850\n",
            "Epoch 3/8\n",
            "60000/60000 [==============================] - 3049s 51ms/step - loss: 0.0305 - acc: 0.9909 - val_loss: 0.0458 - val_acc: 0.9866\n",
            "Epoch 4/8\n",
            "60000/60000 [==============================] - 2979s 50ms/step - loss: 0.0176 - acc: 0.9944 - val_loss: 0.0542 - val_acc: 0.9869\n",
            "Epoch 5/8\n",
            "60000/60000 [==============================] - 2985s 50ms/step - loss: 0.0111 - acc: 0.9971 - val_loss: 0.0540 - val_acc: 0.9875\n",
            "Epoch 6/8\n",
            "60000/60000 [==============================] - 2985s 50ms/step - loss: 0.0084 - acc: 0.9977 - val_loss: 0.1180 - val_acc: 0.9807\n",
            "Epoch 7/8\n",
            "60000/60000 [==============================] - 2983s 50ms/step - loss: 0.0097 - acc: 0.9975 - val_loss: 0.0887 - val_acc: 0.9863\n",
            "Epoch 8/8\n",
            "60000/60000 [==============================] - 2986s 50ms/step - loss: 0.0073 - acc: 0.9983 - val_loss: 0.0790 - val_acc: 0.9881\n"
          ],
          "name": "stdout"
        }
      ]
    },
    {
      "cell_type": "code",
      "metadata": {
        "id": "afGev2K3e77l",
        "outputId": "066ae4eb-f229-40db-8f92-e5892645a3e4",
        "colab": {
          "base_uri": "https://localhost:8080/",
          "height": 317
        }
      },
      "source": [
        "import matplotlib.pyplot as plt\n",
        "import numpy as np\n",
        "import time\n",
        "# https://gist.github.com/greydanus/f6eee59eaf1d90fcb3b534a25362cea4\n",
        "# https://stackoverflow.com/a/14434334\n",
        "# this function is used to update the plots for each epoch and error\n",
        "def plt_dynamic(x, vy, ty, ax, colors=['b']):\n",
        "    ax.plot(x, vy, 'b', label=\"Validation Loss\")\n",
        "    ax.plot(x, ty, 'r', label=\"Train Loss\")\n",
        "    plt.legend()\n",
        "    plt.grid()\n",
        "    fig.canvas.draw()\n",
        "\n",
        "score = model.evaluate(x_test, y_test, verbose=0)\n",
        "print('Test loss:', score[0])\n",
        "print('Test accuracy:', score[1])\n",
        "fig,ax = plt.subplots(1,1)\n",
        "ax.set_xlabel('epoch') ; ax.set_ylabel('Categorical Crossentropy Loss')\n",
        "\n",
        "# list of epoch numbers\n",
        "x = list(range(1,epochs+1))\n",
        "\n",
        "vy = history.history['val_loss']\n",
        "ty = history.history['loss']\n",
        "plt_dynamic(x, vy, ty, ax)"
      ],
      "execution_count": null,
      "outputs": [
        {
          "output_type": "stream",
          "text": [
            "Test loss: 0.07901631979934313\n",
            "Test accuracy: 0.9881\n"
          ],
          "name": "stdout"
        },
        {
          "output_type": "display_data",
          "data": {
            "image/png": "[encoded data removed]",
            "text/plain": [
              "<Figure size 432x288 with 1 Axes>"
            ]
          },
          "metadata": {
            "tags": []
          }
        }
      ]
    },
    {
      "cell_type": "markdown",
      "metadata": {
        "id": "9v8yJmWK2ZSs"
      },
      "source": [
        "#### Observation:\n",
        "    From above plot we can see that train and test data loss are getting diverged."
      ]
    },
    {
      "cell_type": "markdown",
      "metadata": {
        "id": "jbH0HAb_-_Gd"
      },
      "source": [
        "### Model 3 (with padding), kernel_size=(2, 2) "
      ]
    },
    {
      "cell_type": "code",
      "metadata": {
        "id": "gkj8Lnp0_Kt-",
        "outputId": "0c09cf8f-3558-4769-c81f-9a33394f88db",
        "colab": {
          "base_uri": "https://localhost:8080/",
          "height": 612
        }
      },
      "source": [
        "import warnings\n",
        "\n",
        "model = Sequential()\n",
        "model.add(Conv2D(8, kernel_size=(1, 1),\n",
        "                 activation='relu',padding='same',\n",
        "                 input_shape=input_shape))\n",
        "model.add(Conv2D(16, (2, 2), activation='relu',padding='same'))\n",
        "model.add(BatchNormalization())\n",
        "model.add(Conv2D(32, (2, 2), activation='relu',padding='same'))\n",
        "model.add(Conv2D(64, (2, 2), activation='relu',padding='same'))\n",
        "model.add(BatchNormalization())\n",
        "model.add(Conv2D(128, (2, 2), activation='relu',padding='same'))\n",
        "#model.add(MaxPooling2D(pool_size=(2, 2)))\n",
        "model.add(Conv2D(256, (2, 2), activation='relu',padding='same'))\n",
        "model.add(Conv2D(512, (2, 2), activation='relu',padding='same'))\n",
        "model.add(MaxPooling2D(pool_size=(2, 2)))\n",
        "model.add(Flatten())\n",
        "model.add(Dense(512, activation='relu'))\n",
        "model.add(Dense(num_classes, activation='softmax'))\n",
        "print(model.summary())"
      ],
      "execution_count": null,
      "outputs": [
        {
          "output_type": "stream",
          "text": [
            "Model: \"sequential_2\"\n",
            "_________________________________________________________________\n",
            "Layer (type)                 Output Shape              Param #   \n",
            "=================================================================\n",
            "conv2d_6 (Conv2D)            (None, 28, 28, 8)         16        \n",
            "_________________________________________________________________\n",
            "conv2d_7 (Conv2D)            (None, 28, 28, 16)        528       \n",
            "_________________________________________________________________\n",
            "batch_normalization_2 (Batch (None, 28, 28, 16)        64        \n",
            "_________________________________________________________________\n",
            "conv2d_8 (Conv2D)            (None, 28, 28, 32)        2080      \n",
            "_________________________________________________________________\n",
            "conv2d_9 (Conv2D)            (None, 28, 28, 64)        8256      \n",
            "_________________________________________________________________\n",
            "batch_normalization_3 (Batch (None, 28, 28, 64)        256       \n",
            "_________________________________________________________________\n",
            "conv2d_10 (Conv2D)           (None, 28, 28, 128)       32896     \n",
            "_________________________________________________________________\n",
            "conv2d_11 (Conv2D)           (None, 28, 28, 256)       131328    \n",
            "_________________________________________________________________\n",
            "conv2d_12 (Conv2D)           (None, 28, 28, 512)       524800    \n",
            "_________________________________________________________________\n",
            "max_pooling2d_2 (MaxPooling2 (None, 14, 14, 512)       0         \n",
            "_________________________________________________________________\n",
            "flatten_2 (Flatten)          (None, 100352)            0         \n",
            "_________________________________________________________________\n",
            "dense_3 (Dense)              (None, 512)               51380736  \n",
            "_________________________________________________________________\n",
            "dense_4 (Dense)              (None, 10)                5130      \n",
            "=================================================================\n",
            "Total params: 52,086,090\n",
            "Trainable params: 52,085,930\n",
            "Non-trainable params: 160\n",
            "_________________________________________________________________\n",
            "None\n"
          ],
          "name": "stdout"
        }
      ]
    },
    {
      "cell_type": "code",
      "metadata": {
        "id": "r5pKgtdE_K5m",
        "outputId": "36dc8683-c104-46f9-ed63-496c542d002b",
        "colab": {
          "base_uri": "https://localhost:8080/",
          "height": 411
        }
      },
      "source": [
        "model.compile(loss=keras.losses.categorical_crossentropy,\n",
        "              optimizer=keras.optimizers.Adadelta(),\n",
        "              metrics=['accuracy'])\n",
        "warnings.filterwarnings(\"ignore\")\n",
        "history = model.fit(x_train, y_train,\n",
        "          batch_size=batch_size,\n",
        "          epochs=epochs,\n",
        "          verbose=1,\n",
        "          validation_data=(x_test, y_test))"
      ],
      "execution_count": null,
      "outputs": [
        {
          "output_type": "stream",
          "text": [
            "WARNING:tensorflow:From /usr/local/lib/python3.6/dist-packages/keras/optimizers.py:793: The name tf.train.Optimizer is deprecated. Please use tf.compat.v1.train.Optimizer instead.\n",
            "\n",
            "WARNING:tensorflow:From /usr/local/lib/python3.6/dist-packages/tensorflow/python/ops/math_grad.py:1250: add_dispatch_support.<locals>.wrapper (from tensorflow.python.ops.array_ops) is deprecated and will be removed in a future version.\n",
            "Instructions for updating:\n",
            "Use tf.where in 2.0, which has the same broadcast rule as np.where\n",
            "Train on 60000 samples, validate on 10000 samples\n",
            "Epoch 1/8\n",
            "60000/60000 [==============================] - 4426s 74ms/step - loss: 0.2214 - acc: 0.9464 - val_loss: 0.0492 - val_acc: 0.9837\n",
            "Epoch 2/8\n",
            "60000/60000 [==============================] - 4327s 72ms/step - loss: 0.0368 - acc: 0.9889 - val_loss: 0.0358 - val_acc: 0.9891\n",
            "Epoch 3/8\n",
            "60000/60000 [==============================] - 4309s 72ms/step - loss: 0.0210 - acc: 0.9940 - val_loss: 0.0280 - val_acc: 0.9915\n",
            "Epoch 4/8\n",
            "60000/60000 [==============================] - 4401s 73ms/step - loss: 0.0115 - acc: 0.9967 - val_loss: 0.0311 - val_acc: 0.9916\n",
            "Epoch 5/8\n",
            "60000/60000 [==============================] - 4364s 73ms/step - loss: 0.0081 - acc: 0.9975 - val_loss: 0.0556 - val_acc: 0.9883\n",
            "Epoch 6/8\n",
            "60000/60000 [==============================] - 4355s 73ms/step - loss: 0.0049 - acc: 0.9986 - val_loss: 0.0633 - val_acc: 0.9888\n",
            "Epoch 7/8\n",
            "60000/60000 [==============================] - 4360s 73ms/step - loss: 0.0034 - acc: 0.9990 - val_loss: 0.0538 - val_acc: 0.9907\n",
            "Epoch 8/8\n",
            "60000/60000 [==============================] - 4216s 70ms/step - loss: 0.0023 - acc: 0.9993 - val_loss: 0.0654 - val_acc: 0.9899\n"
          ],
          "name": "stdout"
        }
      ]
    },
    {
      "cell_type": "code",
      "metadata": {
        "id": "8vrs0h8S_LGH",
        "outputId": "48382e70-eff8-4e07-a57d-964c1c72e139",
        "colab": {
          "base_uri": "https://localhost:8080/",
          "height": 317
        }
      },
      "source": [
        "import matplotlib.pyplot as plt\n",
        "import numpy as np\n",
        "import time\n",
        "# https://gist.github.com/greydanus/f6eee59eaf1d90fcb3b534a25362cea4\n",
        "# https://stackoverflow.com/a/14434334\n",
        "# this function is used to update the plots for each epoch and error\n",
        "def plt_dynamic(x, vy, ty, ax, colors=['b']):\n",
        "    ax.plot(x, vy, 'b', label=\"Validation Loss\")\n",
        "    ax.plot(x, ty, 'r', label=\"Train Loss\")\n",
        "    plt.legend()\n",
        "    plt.grid()\n",
        "    fig.canvas.draw()\n",
        "\n",
        "score = model.evaluate(x_test, y_test, verbose=0)\n",
        "print('Test loss:', score[0])\n",
        "print('Test accuracy:', score[1])\n",
        "fig,ax = plt.subplots(1,1)\n",
        "ax.set_xlabel('epoch') ; ax.set_ylabel('Categorical Crossentropy Loss')\n",
        "\n",
        "# list of epoch numbers\n",
        "x = list(range(1,epochs+1))\n",
        "\n",
        "vy = history.history['val_loss']\n",
        "ty = history.history['loss']\n",
        "plt_dynamic(x, vy, ty, ax)"
      ],
      "execution_count": null,
      "outputs": [
        {
          "output_type": "stream",
          "text": [
            "Test loss: 0.06536498322770831\n",
            "Test accuracy: 0.9899\n"
          ],
          "name": "stdout"
        },
        {
          "output_type": "display_data",
          "data": {
            "image/png": "[encoded data removed]",
            "text/plain": [
              "<Figure size 432x288 with 1 Axes>"
            ]
          },
          "metadata": {
            "tags": []
          }
        }
      ]
    },
    {
      "cell_type": "markdown",
      "metadata": {
        "id": "Jg3QU76h2bd6"
      },
      "source": [
        "#### Observation:\n",
        "    From above plot we can see that train and test data loss are getting diverged."
      ]
    },
    {
      "cell_type": "markdown",
      "metadata": {
        "id": "aGCm92PDY5rT"
      },
      "source": [
        "###  Model 3 (with batch normal), kernel_size=(2, 2)"
      ]
    },
    {
      "cell_type": "code",
      "metadata": {
        "id": "MubRSLJlZLER",
        "outputId": "9407b48d-d2bb-4123-e0cc-ea7ba4b92920",
        "colab": {
          "base_uri": "https://localhost:8080/",
          "height": 850
        }
      },
      "source": [
        "import warnings\n",
        "\n",
        "model = Sequential()\n",
        "model.add(Conv2D(8, kernel_size=(2, 2),\n",
        "                 activation='relu',padding='same',\n",
        "                 input_shape=input_shape))\n",
        "model.add(Conv2D(16, (2, 2), activation='relu',padding='same'))\n",
        "model.add(BatchNormalization())\n",
        "model.add(Conv2D(32, (2, 2), activation='relu',padding='same'))\n",
        "model.add(BatchNormalization())\n",
        "#model.add(Dropout(0.15))\n",
        "model.add(MaxPooling2D(pool_size=(2, 2)))\n",
        "model.add(Conv2D(64, (2, 2), activation='relu',padding='same'))\n",
        "model.add(BatchNormalization())\n",
        "model.add(MaxPooling2D(pool_size=(2, 2)))\n",
        "#model.add(Dropout(0.15))\n",
        "model.add(Conv2D(128, (2, 2), activation='relu',padding='same'))\n",
        "model.add(BatchNormalization())\n",
        "#model.add(Dropout(0.005))\n",
        "#model.add(MaxPooling2D(pool_size=(2, 2)))\n",
        "model.add(Conv2D(256, (2, 2), activation='relu'))\n",
        "model.add(BatchNormalization())\n",
        "model.add(MaxPooling2D(pool_size=(2, 2)))\n",
        "model.add(Conv2D(512, (2, 2), activation='relu'))\n",
        "model.add(BatchNormalization())\n",
        "#model.add(Dropout(0.05))\n",
        "model.add(MaxPooling2D(pool_size=(2, 2)))\n",
        "model.add(Flatten())\n",
        "model.add(Dense(128, activation='relu'))\n",
        "#model.add(Dropout(0.0005))\n",
        "model.add(Dense(num_classes, activation='softmax'))\n",
        "print(model.summary())"
      ],
      "execution_count": null,
      "outputs": [
        {
          "output_type": "stream",
          "text": [
            "Model: \"sequential_2\"\n",
            "_________________________________________________________________\n",
            "Layer (type)                 Output Shape              Param #   \n",
            "=================================================================\n",
            "conv2d_8 (Conv2D)            (None, 28, 28, 8)         40        \n",
            "_________________________________________________________________\n",
            "conv2d_9 (Conv2D)            (None, 28, 28, 16)        528       \n",
            "_________________________________________________________________\n",
            "batch_normalization_3 (Batch (None, 28, 28, 16)        64        \n",
            "_________________________________________________________________\n",
            "conv2d_10 (Conv2D)           (None, 28, 28, 32)        2080      \n",
            "_________________________________________________________________\n",
            "batch_normalization_4 (Batch (None, 28, 28, 32)        128       \n",
            "_________________________________________________________________\n",
            "max_pooling2d_2 (MaxPooling2 (None, 14, 14, 32)        0         \n",
            "_________________________________________________________________\n",
            "conv2d_11 (Conv2D)           (None, 14, 14, 64)        8256      \n",
            "_________________________________________________________________\n",
            "batch_normalization_5 (Batch (None, 14, 14, 64)        256       \n",
            "_________________________________________________________________\n",
            "max_pooling2d_3 (MaxPooling2 (None, 7, 7, 64)          0         \n",
            "_________________________________________________________________\n",
            "conv2d_12 (Conv2D)           (None, 7, 7, 128)         32896     \n",
            "_________________________________________________________________\n",
            "batch_normalization_6 (Batch (None, 7, 7, 128)         512       \n",
            "_________________________________________________________________\n",
            "conv2d_13 (Conv2D)           (None, 6, 6, 256)         131328    \n",
            "_________________________________________________________________\n",
            "batch_normalization_7 (Batch (None, 6, 6, 256)         1024      \n",
            "_________________________________________________________________\n",
            "max_pooling2d_4 (MaxPooling2 (None, 3, 3, 256)         0         \n",
            "_________________________________________________________________\n",
            "conv2d_14 (Conv2D)           (None, 2, 2, 512)         524800    \n",
            "_________________________________________________________________\n",
            "batch_normalization_8 (Batch (None, 2, 2, 512)         2048      \n",
            "_________________________________________________________________\n",
            "max_pooling2d_5 (MaxPooling2 (None, 1, 1, 512)         0         \n",
            "_________________________________________________________________\n",
            "flatten_2 (Flatten)          (None, 512)               0         \n",
            "_________________________________________________________________\n",
            "dense_3 (Dense)              (None, 128)               65664     \n",
            "_________________________________________________________________\n",
            "dense_4 (Dense)              (None, 10)                1290      \n",
            "=================================================================\n",
            "Total params: 770,914\n",
            "Trainable params: 768,898\n",
            "Non-trainable params: 2,016\n",
            "_________________________________________________________________\n",
            "None\n"
          ],
          "name": "stdout"
        }
      ]
    },
    {
      "cell_type": "code",
      "metadata": {
        "id": "6gBjvVf2ZdUU",
        "outputId": "66c4f83f-628c-4c3c-f96f-ce7a740826cf",
        "colab": {
          "base_uri": "https://localhost:8080/",
          "height": 411
        }
      },
      "source": [
        "model.compile(loss=keras.losses.categorical_crossentropy,\n",
        "              optimizer=keras.optimizers.Adadelta(),\n",
        "              metrics=['accuracy'])\n",
        "warnings.filterwarnings(\"ignore\")\n",
        "history = model.fit(x_train, y_train,\n",
        "          batch_size=batch_size,\n",
        "          epochs=epochs,\n",
        "          verbose=1,\n",
        "          validation_data=(x_test, y_test))"
      ],
      "execution_count": null,
      "outputs": [
        {
          "output_type": "stream",
          "text": [
            "WARNING:tensorflow:From /usr/local/lib/python3.6/dist-packages/keras/optimizers.py:793: The name tf.train.Optimizer is deprecated. Please use tf.compat.v1.train.Optimizer instead.\n",
            "\n",
            "WARNING:tensorflow:From /usr/local/lib/python3.6/dist-packages/tensorflow/python/ops/math_grad.py:1250: add_dispatch_support.<locals>.wrapper (from tensorflow.python.ops.array_ops) is deprecated and will be removed in a future version.\n",
            "Instructions for updating:\n",
            "Use tf.where in 2.0, which has the same broadcast rule as np.where\n",
            "Train on 60000 samples, validate on 10000 samples\n",
            "Epoch 1/8\n",
            "60000/60000 [==============================] - 346s 6ms/step - loss: 0.1501 - acc: 0.9601 - val_loss: 0.2560 - val_acc: 0.9178\n",
            "Epoch 2/8\n",
            "60000/60000 [==============================] - 337s 6ms/step - loss: 0.0802 - acc: 0.9824 - val_loss: 0.3714 - val_acc: 0.8877\n",
            "Epoch 3/8\n",
            "60000/60000 [==============================] - 336s 6ms/step - loss: 0.0630 - acc: 0.9871 - val_loss: 0.0984 - val_acc: 0.9729\n",
            "Epoch 4/8\n",
            "60000/60000 [==============================] - 335s 6ms/step - loss: 0.0373 - acc: 0.9917 - val_loss: 0.0579 - val_acc: 0.9878\n",
            "Epoch 5/8\n",
            "60000/60000 [==============================] - 335s 6ms/step - loss: 0.0284 - acc: 0.9931 - val_loss: 0.0338 - val_acc: 0.9907\n",
            "Epoch 6/8\n",
            "60000/60000 [==============================] - 338s 6ms/step - loss: 0.0232 - acc: 0.9946 - val_loss: 0.0562 - val_acc: 0.9894\n",
            "Epoch 7/8\n",
            "60000/60000 [==============================] - 338s 6ms/step - loss: 0.0211 - acc: 0.9954 - val_loss: 0.0586 - val_acc: 0.9894\n",
            "Epoch 8/8\n",
            "60000/60000 [==============================] - 337s 6ms/step - loss: 0.0172 - acc: 0.9962 - val_loss: 0.0389 - val_acc: 0.9915\n"
          ],
          "name": "stdout"
        }
      ]
    },
    {
      "cell_type": "code",
      "metadata": {
        "id": "wiocwkzJZdyL",
        "outputId": "fa3eefa8-ec36-477d-9df2-63718c058424",
        "colab": {
          "base_uri": "https://localhost:8080/",
          "height": 317
        }
      },
      "source": [
        "import matplotlib.pyplot as plt\n",
        "import numpy as np\n",
        "import time\n",
        "# https://gist.github.com/greydanus/f6eee59eaf1d90fcb3b534a25362cea4\n",
        "# https://stackoverflow.com/a/14434334\n",
        "# this function is used to update the plots for each epoch and error\n",
        "def plt_dynamic(x, vy, ty, ax, colors=['b']):\n",
        "    ax.plot(x, vy, 'b', label=\"Validation Loss\")\n",
        "    ax.plot(x, ty, 'r', label=\"Train Loss\")\n",
        "    plt.legend()\n",
        "    plt.grid()\n",
        "    fig.canvas.draw()\n",
        "\n",
        "score = model.evaluate(x_test, y_test, verbose=0)\n",
        "print('Test loss:', score[0])\n",
        "print('Test accuracy:', score[1])\n",
        "fig,ax = plt.subplots(1,1)\n",
        "ax.set_xlabel('epoch') ; ax.set_ylabel('Categorical Crossentropy Loss')\n",
        "\n",
        "# list of epoch numbers\n",
        "x = list(range(1,epochs+1))\n",
        "\n",
        "vy = history.history['val_loss']\n",
        "ty = history.history['loss']\n",
        "plt_dynamic(x, vy, ty, ax)"
      ],
      "execution_count": null,
      "outputs": [
        {
          "output_type": "stream",
          "text": [
            "Test loss: 0.038901877784033194\n",
            "Test accuracy: 0.9915\n"
          ],
          "name": "stdout"
        },
        {
          "output_type": "display_data",
          "data": {
            "image/png": "[encoded data removed]",
            "text/plain": [
              "<Figure size 432x288 with 1 Axes>"
            ]
          },
          "metadata": {
            "tags": []
          }
        }
      ]
    },
    {
      "cell_type": "markdown",
      "metadata": {
        "id": "tS8_1quq-MiV"
      },
      "source": [
        "#### Observation:\n",
        "    From above plot we can see that train and test data loss are getting converged."
      ]
    },
    {
      "cell_type": "markdown",
      "metadata": {
        "id": "K3rFlf5b-d9R"
      },
      "source": [
        "### Model 3 (with dropout), kernel_size=(2, 2)  "
      ]
    },
    {
      "cell_type": "code",
      "metadata": {
        "id": "edQHQ3sEd6eR",
        "outputId": "19facc21-23ea-43cf-e9f8-df01787671ab",
        "colab": {
          "base_uri": "https://localhost:8080/",
          "height": 1000
        }
      },
      "source": [
        "import warnings\n",
        "\n",
        "model = Sequential()\n",
        "model.add(Conv2D(8, kernel_size=(2, 2),\n",
        "                 activation='relu',padding='same',\n",
        "                 input_shape=input_shape))\n",
        "model.add(Conv2D(16, (2, 2), activation='relu',padding='same'))\n",
        "model.add(BatchNormalization())\n",
        "model.add(Conv2D(32, (2, 2), activation='relu',padding='same'))\n",
        "model.add(BatchNormalization())\n",
        "model.add(Dropout(0.15))\n",
        "model.add(MaxPooling2D(pool_size=(2, 2)))\n",
        "model.add(Conv2D(64, (2, 2), activation='relu',padding='same'))\n",
        "model.add(BatchNormalization())\n",
        "model.add(MaxPooling2D(pool_size=(2, 2)))\n",
        "model.add(Dropout(0.15))\n",
        "model.add(Conv2D(128, (2, 2), activation='relu',padding='same'))\n",
        "model.add(BatchNormalization())\n",
        "model.add(Dropout(0.005))\n",
        "#model.add(MaxPooling2D(pool_size=(2, 2)))\n",
        "model.add(Conv2D(256, (2, 2), activation='relu'))\n",
        "model.add(BatchNormalization())\n",
        "model.add(MaxPooling2D(pool_size=(2, 2)))\n",
        "model.add(Conv2D(512, (2, 2), activation='relu'))\n",
        "model.add(BatchNormalization())\n",
        "model.add(Dropout(0.05))\n",
        "model.add(MaxPooling2D(pool_size=(2, 2)))\n",
        "model.add(Flatten())\n",
        "model.add(Dense(128, activation='relu'))\n",
        "model.add(Dropout(0.0005))\n",
        "model.add(Dense(num_classes, activation='softmax'))\n",
        "print(model.summary())"
      ],
      "execution_count": null,
      "outputs": [
        {
          "output_type": "stream",
          "text": [
            "WARNING:tensorflow:From /usr/local/lib/python3.6/dist-packages/keras/backend/tensorflow_backend.py:2041: The name tf.nn.fused_batch_norm is deprecated. Please use tf.compat.v1.nn.fused_batch_norm instead.\n",
            "\n",
            "WARNING:tensorflow:From /usr/local/lib/python3.6/dist-packages/keras/backend/tensorflow_backend.py:3733: calling dropout (from tensorflow.python.ops.nn_ops) with keep_prob is deprecated and will be removed in a future version.\n",
            "Instructions for updating:\n",
            "Please use `rate` instead of `keep_prob`. Rate should be set to `rate = 1 - keep_prob`.\n",
            "Model: \"sequential_3\"\n",
            "_________________________________________________________________\n",
            "Layer (type)                 Output Shape              Param #   \n",
            "=================================================================\n",
            "conv2d_7 (Conv2D)            (None, 28, 28, 8)         40        \n",
            "_________________________________________________________________\n",
            "conv2d_8 (Conv2D)            (None, 28, 28, 16)        528       \n",
            "_________________________________________________________________\n",
            "batch_normalization_1 (Batch (None, 28, 28, 16)        64        \n",
            "_________________________________________________________________\n",
            "conv2d_9 (Conv2D)            (None, 28, 28, 32)        2080      \n",
            "_________________________________________________________________\n",
            "batch_normalization_2 (Batch (None, 28, 28, 32)        128       \n",
            "_________________________________________________________________\n",
            "dropout_1 (Dropout)          (None, 28, 28, 32)        0         \n",
            "_________________________________________________________________\n",
            "max_pooling2d_3 (MaxPooling2 (None, 14, 14, 32)        0         \n",
            "_________________________________________________________________\n",
            "conv2d_10 (Conv2D)           (None, 14, 14, 64)        8256      \n",
            "_________________________________________________________________\n",
            "batch_normalization_3 (Batch (None, 14, 14, 64)        256       \n",
            "_________________________________________________________________\n",
            "max_pooling2d_4 (MaxPooling2 (None, 7, 7, 64)          0         \n",
            "_________________________________________________________________\n",
            "dropout_2 (Dropout)          (None, 7, 7, 64)          0         \n",
            "_________________________________________________________________\n",
            "conv2d_11 (Conv2D)           (None, 7, 7, 128)         32896     \n",
            "_________________________________________________________________\n",
            "batch_normalization_4 (Batch (None, 7, 7, 128)         512       \n",
            "_________________________________________________________________\n",
            "dropout_3 (Dropout)          (None, 7, 7, 128)         0         \n",
            "_________________________________________________________________\n",
            "conv2d_12 (Conv2D)           (None, 6, 6, 256)         131328    \n",
            "_________________________________________________________________\n",
            "batch_normalization_5 (Batch (None, 6, 6, 256)         1024      \n",
            "_________________________________________________________________\n",
            "max_pooling2d_5 (MaxPooling2 (None, 3, 3, 256)         0         \n",
            "_________________________________________________________________\n",
            "conv2d_13 (Conv2D)           (None, 2, 2, 512)         524800    \n",
            "_________________________________________________________________\n",
            "batch_normalization_6 (Batch (None, 2, 2, 512)         2048      \n",
            "_________________________________________________________________\n",
            "dropout_4 (Dropout)          (None, 2, 2, 512)         0         \n",
            "_________________________________________________________________\n",
            "max_pooling2d_6 (MaxPooling2 (None, 1, 1, 512)         0         \n",
            "_________________________________________________________________\n",
            "flatten_3 (Flatten)          (None, 512)               0         \n",
            "_________________________________________________________________\n",
            "dense_5 (Dense)              (None, 128)               65664     \n",
            "_________________________________________________________________\n",
            "dropout_5 (Dropout)          (None, 128)               0         \n",
            "_________________________________________________________________\n",
            "dense_6 (Dense)              (None, 10)                1290      \n",
            "=================================================================\n",
            "Total params: 770,914\n",
            "Trainable params: 768,898\n",
            "Non-trainable params: 2,016\n",
            "_________________________________________________________________\n",
            "None\n"
          ],
          "name": "stdout"
        }
      ]
    },
    {
      "cell_type": "code",
      "metadata": {
        "id": "ijcMZ2EJxLkv",
        "outputId": "d0f9a857-5e8c-413b-8466-5f340cee5e1b",
        "colab": {
          "base_uri": "https://localhost:8080/",
          "height": 306
        }
      },
      "source": [
        "model.compile(loss=keras.losses.categorical_crossentropy,\n",
        "              optimizer=keras.optimizers.Adadelta(),\n",
        "              metrics=['accuracy'])\n",
        "warnings.filterwarnings(\"ignore\")\n",
        "history = model.fit(x_train, y_train,\n",
        "          batch_size=batch_size,\n",
        "          epochs=epochs,\n",
        "          verbose=1,\n",
        "          validation_data=(x_test, y_test))"
      ],
      "execution_count": null,
      "outputs": [
        {
          "output_type": "stream",
          "text": [
            "Train on 60000 samples, validate on 10000 samples\n",
            "Epoch 1/8\n",
            "60000/60000 [==============================] - 390s 7ms/step - loss: 0.1523 - acc: 0.9528 - val_loss: 0.0531 - val_acc: 0.9838\n",
            "Epoch 2/8\n",
            "60000/60000 [==============================] - 393s 7ms/step - loss: 0.0976 - acc: 0.9766 - val_loss: 0.0511 - val_acc: 0.9843\n",
            "Epoch 3/8\n",
            "60000/60000 [==============================] - 394s 7ms/step - loss: 0.0578 - acc: 0.9848 - val_loss: 0.0417 - val_acc: 0.9886\n",
            "Epoch 4/8\n",
            "60000/60000 [==============================] - 390s 6ms/step - loss: 0.0413 - acc: 0.9880 - val_loss: 0.1936 - val_acc: 0.9418\n",
            "Epoch 5/8\n",
            "60000/60000 [==============================] - 390s 6ms/step - loss: 0.0310 - acc: 0.9910 - val_loss: 0.1171 - val_acc: 0.9797\n",
            "Epoch 6/8\n",
            "60000/60000 [==============================] - 394s 7ms/step - loss: 0.0315 - acc: 0.9918 - val_loss: 0.0371 - val_acc: 0.9889\n",
            "Epoch 7/8\n",
            "60000/60000 [==============================] - 380s 6ms/step - loss: 0.0244 - acc: 0.9931 - val_loss: 0.1036 - val_acc: 0.9709\n",
            "Epoch 8/8\n",
            "60000/60000 [==============================] - 372s 6ms/step - loss: 0.0189 - acc: 0.9945 - val_loss: 0.0326 - val_acc: 0.9919\n"
          ],
          "name": "stdout"
        }
      ]
    },
    {
      "cell_type": "code",
      "metadata": {
        "id": "DM25G_vgxNie",
        "outputId": "82fcb323-a861-43b9-87d4-161667219f09",
        "colab": {
          "base_uri": "https://localhost:8080/",
          "height": 317
        }
      },
      "source": [
        "import matplotlib.pyplot as plt\n",
        "import numpy as np\n",
        "import time\n",
        "# https://gist.github.com/greydanus/f6eee59eaf1d90fcb3b534a25362cea4\n",
        "# https://stackoverflow.com/a/14434334\n",
        "# this function is used to update the plots for each epoch and error\n",
        "def plt_dynamic(x, vy, ty, ax, colors=['b']):\n",
        "    ax.plot(x, vy, 'b', label=\"Validation Loss\")\n",
        "    ax.plot(x, ty, 'r', label=\"Train Loss\")\n",
        "    plt.legend()\n",
        "    plt.grid()\n",
        "    fig.canvas.draw()\n",
        "\n",
        "score = model.evaluate(x_test, y_test, verbose=0)\n",
        "print('Test loss:', score[0])\n",
        "print('Test accuracy:', score[1])\n",
        "fig,ax = plt.subplots(1,1)\n",
        "ax.set_xlabel('epoch') ; ax.set_ylabel('Categorical Crossentropy Loss')\n",
        "\n",
        "# list of epoch numbers\n",
        "x = list(range(1,epochs+1))\n",
        "\n",
        "vy = history.history['val_loss']\n",
        "ty = history.history['loss']\n",
        "plt_dynamic(x, vy, ty, ax)"
      ],
      "execution_count": null,
      "outputs": [
        {
          "output_type": "stream",
          "text": [
            "Test loss: 0.03260225059746035\n",
            "Test accuracy: 0.9919\n"
          ],
          "name": "stdout"
        },
        {
          "output_type": "display_data",
          "data": {
            "image/png": "[encoded data removed]",
            "text/plain": [
              "<Figure size 432x288 with 1 Axes>"
            ]
          },
          "metadata": {
            "tags": []
          }
        }
      ]
    },
    {
      "cell_type": "markdown",
      "metadata": {
        "id": "7ry99IDY2f3w"
      },
      "source": [
        "#### Observation:\n",
        "    From above plot we can see that train and test data loss are getting converged."
      ]
    },
    {
      "cell_type": "code",
      "metadata": {
        "id": "-v1ooo033JHf",
        "outputId": "b2d65c9e-effd-41df-8aa1-79663b8bdb61",
        "colab": {
          "base_uri": "https://localhost:8080/",
          "height": 323
        }
      },
      "source": [
        "from prettytable import PrettyTable\n",
        "    \n",
        "x = PrettyTable()\n",
        "\n",
        "x.field_names = [\"Model\",\"kernel_size\",\"method\", \"Total Params \", \"Test Accuracy\",\"Epoch vs loss graph\"]\n",
        "\n",
        "x.add_row([\"Model1(conv = 3)\",\"3X3\",'Normal','1,015,946',0.9881,'Diverge'])\n",
        "x.add_row([\"Model1(conv = 3)\",\"3X3\",'Padding','1,630,346',0.9889,'Diverge'])\n",
        "x.add_row([\"Model1(conv = 3)\",\"3X3\",'Batch Normal', '1,630,730',0.9922,'Diverge'])\n",
        "x.add_row([\"Model1(conv = 3)\",\"3X3\",'Dropout', '1,630,730',0.9881,'Converge'])\n",
        "x.add_row([\"------------------------------------\",'-------','-------', '-------', '---','--------'])\n",
        "x.add_row([\"Model2(conv = 5)\",\"2X2\",'Normal','6,598,586', 0.9793,'Diverge'])\n",
        "x.add_row([\"Model2(conv = 5)\",\"2X2\",'Padding','6,598,586', 0.9793,'Converge'])\n",
        "x.add_row([\"Model2(conv = 5)\",\"2X2\",'Batch Normal','6,601,402', 0.992,'Diverge'])\n",
        "x.add_row([\"Model2(conv = 5)\",\"2X2\",'Dropout','6,598,586',0.988,'Converge'])  \n",
        "x.add_row([\"------------------------------------\",'-------', '-------', '--------','---','---------'])\n",
        "x.add_row([\"Model3(conv = 7)\",\"2X2\",'Normal','32,420,746', 0.9881,'Diverge'])\n",
        "x.add_row([\"Model3(conv = 7)\",\"2X2\",'Padding','52,086,090', 0.9782,'Diverge'])\n",
        "x.add_row([\"Model3(conv = 7)\",\"2X2\",'Batch Normal','770,914', 0.9915,'Converge'])\n",
        "x.add_row([\"Model3(conv = 7)\",\"2X2\",'Dropout','770,914', 0.99,'Converge'])\n",
        "print(x)"
      ],
      "execution_count": null,
      "outputs": [
        {
          "output_type": "stream",
          "text": [
            "+--------------------------------------+-------------+--------------+---------------+---------------+---------------------+\n",
            "|                Model                 | kernel_size |    method    | Total Params  | Test Accuracy | Epoch vs loss graph |\n",
            "+--------------------------------------+-------------+--------------+---------------+---------------+---------------------+\n",
            "|           Model1(conv = 3)           |     3X3     |    Normal    |   1,015,946   |     0.9881    |       Diverge       |\n",
            "|           Model1(conv = 3)           |     3X3     |   Padding    |   1,630,346   |     0.9889    |       Diverge       |\n",
            "|           Model1(conv = 3)           |     3X3     | Batch Normal |   1,630,730   |     0.9922    |       Diverge       |\n",
            "|           Model1(conv = 3)           |     3X3     |   Dropout    |   1,630,730   |     0.9881    |       Converge      |\n",
            "| ------------------------------------ |   -------   |   -------    |    -------    |      ---      |       --------      |\n",
            "|           Model2(conv = 5)           |     2X2     |    Normal    |   6,598,586   |     0.9793    |       Diverge       |\n",
            "|           Model2(conv = 5)           |     2X2     |   Padding    |   6,598,586   |     0.9793    |       Converge      |\n",
            "|           Model2(conv = 5)           |     2X2     | Batch Normal |   6,601,402   |     0.992     |       Diverge       |\n",
            "|           Model2(conv = 5)           |     2X2     |   Dropout    |   6,598,586   |     0.988     |       Converge      |\n",
            "| ------------------------------------ |   -------   |   -------    |    --------   |      ---      |      ---------      |\n",
            "|           Model3(conv = 7)           |     2X2     |    Normal    |   32,420,746  |     0.9881    |       Diverge       |\n",
            "|           Model3(conv = 7)           |     2X2     |   Padding    |   52,086,090  |     0.9782    |       Diverge       |\n",
            "|           Model3(conv = 7)           |     2X2     | Batch Normal |    770,914    |     0.9915    |       Converge      |\n",
            "|           Model3(conv = 7)           |     2X2     |   Dropout    |    770,914    |      0.99     |       Converge      |\n",
            "+--------------------------------------+-------------+--------------+---------------+---------------+---------------------+\n"
          ],
          "name": "stdout"
        }
      ]
    },
    {
      "cell_type": "code",
      "metadata": {
        "id": "4LsYRLAq2i0M"
      },
      "source": [],
      "execution_count": null,
      "outputs": []
    }
  ]
}